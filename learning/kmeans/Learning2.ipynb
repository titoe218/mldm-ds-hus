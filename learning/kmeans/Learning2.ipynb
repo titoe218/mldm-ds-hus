{
 "cells": [
  {
   "cell_type": "markdown",
   "source": [
    "[Ref](https://medium.com/geekculture/stroke-prediction-d26c15f9d1)"
   ],
   "metadata": {}
  },
  {
   "cell_type": "markdown",
   "source": [
    "# Giới thiệu\n",
    "Theo Tổ chức Y tế thế giới (WHO), đột quỵ là lý do đứng thứ 2 gây ra tử vong và lý do đứng thứ 3 gây ra khuyết tật trên toàn cầu. Đột quỵ là hiện tượng chết đột ngột tế bào não do việc thiếu oxy khi lượng máu lên não bị mất đi do tắc nghẽn hoặc vỡ động mạch lên não. Đây cũng là nguyên nhân hàng đầu dẫn đến sa sút trí tuệ và trầm cảm. <br/>\n",
    "\n",
    "Gần 800 nghìn người ở Mỹ trải qua 1 cơn đột quỵ mỗi năm, trong đó khoảng 3/4 là đột quỵ lần đầu tiên. 80% những cơn đột quỵ này có thể được ngăn chặn nên việc giáo dục nhận biết các triệu chứng đột quỵ là rất cần thiết. <br/>\n",
    "\n",
    "Vậy nên mục đích của tiểu luận là xây dựng một mô hình dự đoán đột quỵ và đánh giá độ chính xác của mô hình. Trong bài tập lần này, nhóm sử dụng phân loại KMeans. Từ kết quả đưa ra của mô hình, mô hình có kết quả tốt nhất sẽ được kiểm nghiệm lại bằng phương pháp cross-validation."
   ],
   "metadata": {}
  },
  {
   "cell_type": "markdown",
   "source": [
    "# Nguồn dữ liệu\n",
    "\n",
    "Dữ liệu được thu thập của 5110 người tham gia vào nghiên cứu này với 2995 nam và 2115 nữ, được lấy từ trang [Kaggle](https://www.kaggle.com/fedesoriano/stroke-prediction-dataset). Để dự đoán 1 bệnh nhân liệu có bị đột quỵ hay không dựa theo các thông tin ở đây:"
   ],
   "metadata": {}
  },
  {
   "cell_type": "markdown",
   "source": [
    "```\n",
    "1.  id                : unique identifier\n",
    "2.  gender            : \"Male\", \"Female\" or \"Other\"\n",
    "3.  age               : age of the patient\n",
    "4.  hypertension      : 0 if the patient doesn't have hypertension, 1 if the patient has hypertension\n",
    "5.  heart_disease     : 0 if the patient doesn't have any heart diseases, 1 if the patient has a heart disease\n",
    "6.  ever_married      : \"No\" or \"Yes\"\n",
    "7.  work_type         : \"children\", \"Govt_jov\", \"Never_worked\", \"Private\" or \"Self-employed\"\n",
    "8.  Residence_type    : \"Rural\" or \"Urban\"\n",
    "9.  avg_glucose_level : average glucose level in blood\n",
    "10. bmi               : body mass index\n",
    "11. smoking_status    : \"formerly smoked\", \"never smoked\", \"smokes\" or \"Unknown\"\n",
    "12. stroke            : 1 if the patient had a stroke, 0 the patient do not have a stroke\n",
    "```"
   ],
   "metadata": {}
  },
  {
   "cell_type": "markdown",
   "source": [
    "# Import các thư viện và dữ liệu"
   ],
   "metadata": {}
  },
  {
   "cell_type": "code",
   "execution_count": 1,
   "source": [
    "import numpy as np\n",
    "import pandas as pd\n",
    "import matplotlib.pyplot as plt\n",
    "import seaborn as sns\n",
    "from sklearn.metrics import silhouette_score\n",
    "from sklearn.feature_selection import SelectKBest, f_classif\n",
    "from imblearn.over_sampling import SMOTE\n",
    "\n",
    "# Models\n",
    "from sklearn.model_selection import train_test_split\n",
    "from sklearn.tree import DecisionTreeClassifier\n",
    "from sklearn.linear_model import LogisticRegression\n",
    "from sklearn.ensemble import RandomForestClassifier\n",
    "from sklearn.svm import SVC\n",
    "from sklearn.neighbors import KNeighborsClassifier\n",
    "from sklearn.naive_bayes import GaussianNB\n",
    "from sklearn.cluster import KMeans\n",
    "from xgboost import XGBClassifier\n",
    "\n",
    "# Evaluation\n",
    "from sklearn.metrics import confusion_matrix, accuracy_score, classification_report, f1_score"
   ],
   "outputs": [],
   "metadata": {}
  },
  {
   "cell_type": "code",
   "execution_count": 2,
   "source": [
    "data = pd.read_csv('../../data/stroke.csv')\n",
    "data.head(3)"
   ],
   "outputs": [
    {
     "output_type": "execute_result",
     "data": {
      "text/html": [
       "<div>\n",
       "<style scoped>\n",
       "    .dataframe tbody tr th:only-of-type {\n",
       "        vertical-align: middle;\n",
       "    }\n",
       "\n",
       "    .dataframe tbody tr th {\n",
       "        vertical-align: top;\n",
       "    }\n",
       "\n",
       "    .dataframe thead th {\n",
       "        text-align: right;\n",
       "    }\n",
       "</style>\n",
       "<table border=\"1\" class=\"dataframe\">\n",
       "  <thead>\n",
       "    <tr style=\"text-align: right;\">\n",
       "      <th></th>\n",
       "      <th>id</th>\n",
       "      <th>gender</th>\n",
       "      <th>age</th>\n",
       "      <th>hypertension</th>\n",
       "      <th>heart_disease</th>\n",
       "      <th>ever_married</th>\n",
       "      <th>work_type</th>\n",
       "      <th>Residence_type</th>\n",
       "      <th>avg_glucose_level</th>\n",
       "      <th>bmi</th>\n",
       "      <th>smoking_status</th>\n",
       "      <th>stroke</th>\n",
       "    </tr>\n",
       "  </thead>\n",
       "  <tbody>\n",
       "    <tr>\n",
       "      <th>0</th>\n",
       "      <td>9046</td>\n",
       "      <td>Male</td>\n",
       "      <td>67.0</td>\n",
       "      <td>0</td>\n",
       "      <td>1</td>\n",
       "      <td>Yes</td>\n",
       "      <td>Private</td>\n",
       "      <td>Urban</td>\n",
       "      <td>228.69</td>\n",
       "      <td>36.6</td>\n",
       "      <td>formerly smoked</td>\n",
       "      <td>1</td>\n",
       "    </tr>\n",
       "    <tr>\n",
       "      <th>1</th>\n",
       "      <td>51676</td>\n",
       "      <td>Female</td>\n",
       "      <td>61.0</td>\n",
       "      <td>0</td>\n",
       "      <td>0</td>\n",
       "      <td>Yes</td>\n",
       "      <td>Self-employed</td>\n",
       "      <td>Rural</td>\n",
       "      <td>202.21</td>\n",
       "      <td>NaN</td>\n",
       "      <td>never smoked</td>\n",
       "      <td>1</td>\n",
       "    </tr>\n",
       "    <tr>\n",
       "      <th>2</th>\n",
       "      <td>31112</td>\n",
       "      <td>Male</td>\n",
       "      <td>80.0</td>\n",
       "      <td>0</td>\n",
       "      <td>1</td>\n",
       "      <td>Yes</td>\n",
       "      <td>Private</td>\n",
       "      <td>Rural</td>\n",
       "      <td>105.92</td>\n",
       "      <td>32.5</td>\n",
       "      <td>never smoked</td>\n",
       "      <td>1</td>\n",
       "    </tr>\n",
       "  </tbody>\n",
       "</table>\n",
       "</div>"
      ],
      "text/plain": [
       "      id  gender   age  hypertension  heart_disease ever_married  \\\n",
       "0   9046    Male  67.0             0              1          Yes   \n",
       "1  51676  Female  61.0             0              0          Yes   \n",
       "2  31112    Male  80.0             0              1          Yes   \n",
       "\n",
       "       work_type Residence_type  avg_glucose_level   bmi   smoking_status  \\\n",
       "0        Private          Urban             228.69  36.6  formerly smoked   \n",
       "1  Self-employed          Rural             202.21   NaN     never smoked   \n",
       "2        Private          Rural             105.92  32.5     never smoked   \n",
       "\n",
       "   stroke  \n",
       "0       1  \n",
       "1       1  \n",
       "2       1  "
      ]
     },
     "metadata": {},
     "execution_count": 2
    }
   ],
   "metadata": {}
  },
  {
   "cell_type": "markdown",
   "source": [
    "# Data cleaning"
   ],
   "metadata": {}
  },
  {
   "cell_type": "code",
   "execution_count": 3,
   "source": [
    "print(data.shape)\n",
    "\n",
    "print(data.info())\n",
    "\n",
    "print(data.isna().sum())"
   ],
   "outputs": [
    {
     "output_type": "stream",
     "name": "stdout",
     "text": [
      "(5110, 12)\n",
      "<class 'pandas.core.frame.DataFrame'>\n",
      "RangeIndex: 5110 entries, 0 to 5109\n",
      "Data columns (total 12 columns):\n",
      " #   Column             Non-Null Count  Dtype  \n",
      "---  ------             --------------  -----  \n",
      " 0   id                 5110 non-null   int64  \n",
      " 1   gender             5110 non-null   object \n",
      " 2   age                5110 non-null   float64\n",
      " 3   hypertension       5110 non-null   int64  \n",
      " 4   heart_disease      5110 non-null   int64  \n",
      " 5   ever_married       5110 non-null   object \n",
      " 6   work_type          5110 non-null   object \n",
      " 7   Residence_type     5110 non-null   object \n",
      " 8   avg_glucose_level  5110 non-null   float64\n",
      " 9   bmi                4909 non-null   float64\n",
      " 10  smoking_status     5110 non-null   object \n",
      " 11  stroke             5110 non-null   int64  \n",
      "dtypes: float64(3), int64(4), object(5)\n",
      "memory usage: 479.2+ KB\n",
      "None\n",
      "id                     0\n",
      "gender                 0\n",
      "age                    0\n",
      "hypertension           0\n",
      "heart_disease          0\n",
      "ever_married           0\n",
      "work_type              0\n",
      "Residence_type         0\n",
      "avg_glucose_level      0\n",
      "bmi                  201\n",
      "smoking_status         0\n",
      "stroke                 0\n",
      "dtype: int64\n"
     ]
    }
   ],
   "metadata": {}
  },
  {
   "cell_type": "code",
   "execution_count": 4,
   "source": [
    "data['stroke'].value_counts()"
   ],
   "outputs": [
    {
     "output_type": "execute_result",
     "data": {
      "text/plain": [
       "0    4861\n",
       "1     249\n",
       "Name: stroke, dtype: int64"
      ]
     },
     "metadata": {},
     "execution_count": 4
    }
   ],
   "metadata": {}
  },
  {
   "cell_type": "markdown",
   "source": [
    "Có 201 người bị thiếu thông tin về chỉ số BMI. 1 cách đơn giản ta có thể xóa các dòng dữ liệu này tuy nhiên cần kiểm tra lại để chắc chắn thông tin của 201 người này không ảnh hưởng đến kết quả dự đoán sau này"
   ],
   "metadata": {}
  },
  {
   "cell_type": "code",
   "execution_count": 5,
   "source": [
    "data[data['bmi'].isna() & data['stroke'] == 1]"
   ],
   "outputs": [
    {
     "output_type": "execute_result",
     "data": {
      "text/html": [
       "<div>\n",
       "<style scoped>\n",
       "    .dataframe tbody tr th:only-of-type {\n",
       "        vertical-align: middle;\n",
       "    }\n",
       "\n",
       "    .dataframe tbody tr th {\n",
       "        vertical-align: top;\n",
       "    }\n",
       "\n",
       "    .dataframe thead th {\n",
       "        text-align: right;\n",
       "    }\n",
       "</style>\n",
       "<table border=\"1\" class=\"dataframe\">\n",
       "  <thead>\n",
       "    <tr style=\"text-align: right;\">\n",
       "      <th></th>\n",
       "      <th>id</th>\n",
       "      <th>gender</th>\n",
       "      <th>age</th>\n",
       "      <th>hypertension</th>\n",
       "      <th>heart_disease</th>\n",
       "      <th>ever_married</th>\n",
       "      <th>work_type</th>\n",
       "      <th>Residence_type</th>\n",
       "      <th>avg_glucose_level</th>\n",
       "      <th>bmi</th>\n",
       "      <th>smoking_status</th>\n",
       "      <th>stroke</th>\n",
       "    </tr>\n",
       "  </thead>\n",
       "  <tbody>\n",
       "    <tr>\n",
       "      <th>1</th>\n",
       "      <td>51676</td>\n",
       "      <td>Female</td>\n",
       "      <td>61.00</td>\n",
       "      <td>0</td>\n",
       "      <td>0</td>\n",
       "      <td>Yes</td>\n",
       "      <td>Self-employed</td>\n",
       "      <td>Rural</td>\n",
       "      <td>202.21</td>\n",
       "      <td>NaN</td>\n",
       "      <td>never smoked</td>\n",
       "      <td>1</td>\n",
       "    </tr>\n",
       "    <tr>\n",
       "      <th>8</th>\n",
       "      <td>27419</td>\n",
       "      <td>Female</td>\n",
       "      <td>59.00</td>\n",
       "      <td>0</td>\n",
       "      <td>0</td>\n",
       "      <td>Yes</td>\n",
       "      <td>Private</td>\n",
       "      <td>Rural</td>\n",
       "      <td>76.15</td>\n",
       "      <td>NaN</td>\n",
       "      <td>Unknown</td>\n",
       "      <td>1</td>\n",
       "    </tr>\n",
       "    <tr>\n",
       "      <th>13</th>\n",
       "      <td>8213</td>\n",
       "      <td>Male</td>\n",
       "      <td>78.00</td>\n",
       "      <td>0</td>\n",
       "      <td>1</td>\n",
       "      <td>Yes</td>\n",
       "      <td>Private</td>\n",
       "      <td>Urban</td>\n",
       "      <td>219.84</td>\n",
       "      <td>NaN</td>\n",
       "      <td>Unknown</td>\n",
       "      <td>1</td>\n",
       "    </tr>\n",
       "    <tr>\n",
       "      <th>19</th>\n",
       "      <td>25226</td>\n",
       "      <td>Male</td>\n",
       "      <td>57.00</td>\n",
       "      <td>0</td>\n",
       "      <td>1</td>\n",
       "      <td>No</td>\n",
       "      <td>Govt_job</td>\n",
       "      <td>Urban</td>\n",
       "      <td>217.08</td>\n",
       "      <td>NaN</td>\n",
       "      <td>Unknown</td>\n",
       "      <td>1</td>\n",
       "    </tr>\n",
       "    <tr>\n",
       "      <th>27</th>\n",
       "      <td>61843</td>\n",
       "      <td>Male</td>\n",
       "      <td>58.00</td>\n",
       "      <td>0</td>\n",
       "      <td>0</td>\n",
       "      <td>Yes</td>\n",
       "      <td>Private</td>\n",
       "      <td>Rural</td>\n",
       "      <td>189.84</td>\n",
       "      <td>NaN</td>\n",
       "      <td>Unknown</td>\n",
       "      <td>1</td>\n",
       "    </tr>\n",
       "    <tr>\n",
       "      <th>29</th>\n",
       "      <td>69160</td>\n",
       "      <td>Male</td>\n",
       "      <td>59.00</td>\n",
       "      <td>0</td>\n",
       "      <td>0</td>\n",
       "      <td>Yes</td>\n",
       "      <td>Private</td>\n",
       "      <td>Rural</td>\n",
       "      <td>211.78</td>\n",
       "      <td>NaN</td>\n",
       "      <td>formerly smoked</td>\n",
       "      <td>1</td>\n",
       "    </tr>\n",
       "    <tr>\n",
       "      <th>43</th>\n",
       "      <td>1845</td>\n",
       "      <td>Female</td>\n",
       "      <td>63.00</td>\n",
       "      <td>0</td>\n",
       "      <td>0</td>\n",
       "      <td>Yes</td>\n",
       "      <td>Private</td>\n",
       "      <td>Urban</td>\n",
       "      <td>90.90</td>\n",
       "      <td>NaN</td>\n",
       "      <td>formerly smoked</td>\n",
       "      <td>1</td>\n",
       "    </tr>\n",
       "    <tr>\n",
       "      <th>46</th>\n",
       "      <td>37937</td>\n",
       "      <td>Female</td>\n",
       "      <td>75.00</td>\n",
       "      <td>0</td>\n",
       "      <td>1</td>\n",
       "      <td>No</td>\n",
       "      <td>Self-employed</td>\n",
       "      <td>Urban</td>\n",
       "      <td>109.78</td>\n",
       "      <td>NaN</td>\n",
       "      <td>Unknown</td>\n",
       "      <td>1</td>\n",
       "    </tr>\n",
       "    <tr>\n",
       "      <th>50</th>\n",
       "      <td>18587</td>\n",
       "      <td>Female</td>\n",
       "      <td>76.00</td>\n",
       "      <td>0</td>\n",
       "      <td>0</td>\n",
       "      <td>No</td>\n",
       "      <td>Private</td>\n",
       "      <td>Urban</td>\n",
       "      <td>89.96</td>\n",
       "      <td>NaN</td>\n",
       "      <td>Unknown</td>\n",
       "      <td>1</td>\n",
       "    </tr>\n",
       "    <tr>\n",
       "      <th>51</th>\n",
       "      <td>15102</td>\n",
       "      <td>Male</td>\n",
       "      <td>78.00</td>\n",
       "      <td>1</td>\n",
       "      <td>0</td>\n",
       "      <td>Yes</td>\n",
       "      <td>Private</td>\n",
       "      <td>Urban</td>\n",
       "      <td>75.32</td>\n",
       "      <td>NaN</td>\n",
       "      <td>formerly smoked</td>\n",
       "      <td>1</td>\n",
       "    </tr>\n",
       "    <tr>\n",
       "      <th>54</th>\n",
       "      <td>8752</td>\n",
       "      <td>Female</td>\n",
       "      <td>63.00</td>\n",
       "      <td>0</td>\n",
       "      <td>0</td>\n",
       "      <td>Yes</td>\n",
       "      <td>Govt_job</td>\n",
       "      <td>Urban</td>\n",
       "      <td>197.54</td>\n",
       "      <td>NaN</td>\n",
       "      <td>never smoked</td>\n",
       "      <td>1</td>\n",
       "    </tr>\n",
       "    <tr>\n",
       "      <th>57</th>\n",
       "      <td>66400</td>\n",
       "      <td>Male</td>\n",
       "      <td>78.00</td>\n",
       "      <td>0</td>\n",
       "      <td>0</td>\n",
       "      <td>Yes</td>\n",
       "      <td>Private</td>\n",
       "      <td>Urban</td>\n",
       "      <td>237.75</td>\n",
       "      <td>NaN</td>\n",
       "      <td>formerly smoked</td>\n",
       "      <td>1</td>\n",
       "    </tr>\n",
       "    <tr>\n",
       "      <th>64</th>\n",
       "      <td>7356</td>\n",
       "      <td>Male</td>\n",
       "      <td>75.00</td>\n",
       "      <td>0</td>\n",
       "      <td>0</td>\n",
       "      <td>Yes</td>\n",
       "      <td>Private</td>\n",
       "      <td>Urban</td>\n",
       "      <td>104.72</td>\n",
       "      <td>NaN</td>\n",
       "      <td>Unknown</td>\n",
       "      <td>1</td>\n",
       "    </tr>\n",
       "    <tr>\n",
       "      <th>70</th>\n",
       "      <td>70676</td>\n",
       "      <td>Female</td>\n",
       "      <td>76.00</td>\n",
       "      <td>0</td>\n",
       "      <td>0</td>\n",
       "      <td>Yes</td>\n",
       "      <td>Govt_job</td>\n",
       "      <td>Rural</td>\n",
       "      <td>62.57</td>\n",
       "      <td>NaN</td>\n",
       "      <td>formerly smoked</td>\n",
       "      <td>1</td>\n",
       "    </tr>\n",
       "    <tr>\n",
       "      <th>78</th>\n",
       "      <td>45805</td>\n",
       "      <td>Female</td>\n",
       "      <td>51.00</td>\n",
       "      <td>0</td>\n",
       "      <td>0</td>\n",
       "      <td>Yes</td>\n",
       "      <td>Private</td>\n",
       "      <td>Urban</td>\n",
       "      <td>165.31</td>\n",
       "      <td>NaN</td>\n",
       "      <td>never smoked</td>\n",
       "      <td>1</td>\n",
       "    </tr>\n",
       "    <tr>\n",
       "      <th>81</th>\n",
       "      <td>26015</td>\n",
       "      <td>Female</td>\n",
       "      <td>66.00</td>\n",
       "      <td>0</td>\n",
       "      <td>0</td>\n",
       "      <td>Yes</td>\n",
       "      <td>Self-employed</td>\n",
       "      <td>Urban</td>\n",
       "      <td>101.45</td>\n",
       "      <td>NaN</td>\n",
       "      <td>Unknown</td>\n",
       "      <td>1</td>\n",
       "    </tr>\n",
       "    <tr>\n",
       "      <th>84</th>\n",
       "      <td>70042</td>\n",
       "      <td>Male</td>\n",
       "      <td>58.00</td>\n",
       "      <td>0</td>\n",
       "      <td>0</td>\n",
       "      <td>Yes</td>\n",
       "      <td>Private</td>\n",
       "      <td>Urban</td>\n",
       "      <td>71.20</td>\n",
       "      <td>NaN</td>\n",
       "      <td>Unknown</td>\n",
       "      <td>1</td>\n",
       "    </tr>\n",
       "    <tr>\n",
       "      <th>105</th>\n",
       "      <td>2346</td>\n",
       "      <td>Male</td>\n",
       "      <td>58.00</td>\n",
       "      <td>0</td>\n",
       "      <td>0</td>\n",
       "      <td>Yes</td>\n",
       "      <td>Private</td>\n",
       "      <td>Urban</td>\n",
       "      <td>82.30</td>\n",
       "      <td>NaN</td>\n",
       "      <td>smokes</td>\n",
       "      <td>1</td>\n",
       "    </tr>\n",
       "    <tr>\n",
       "      <th>112</th>\n",
       "      <td>36706</td>\n",
       "      <td>Female</td>\n",
       "      <td>76.00</td>\n",
       "      <td>0</td>\n",
       "      <td>0</td>\n",
       "      <td>Yes</td>\n",
       "      <td>Self-employed</td>\n",
       "      <td>Urban</td>\n",
       "      <td>106.41</td>\n",
       "      <td>NaN</td>\n",
       "      <td>formerly smoked</td>\n",
       "      <td>1</td>\n",
       "    </tr>\n",
       "    <tr>\n",
       "      <th>124</th>\n",
       "      <td>14164</td>\n",
       "      <td>Female</td>\n",
       "      <td>72.00</td>\n",
       "      <td>0</td>\n",
       "      <td>0</td>\n",
       "      <td>Yes</td>\n",
       "      <td>Private</td>\n",
       "      <td>Urban</td>\n",
       "      <td>219.91</td>\n",
       "      <td>NaN</td>\n",
       "      <td>Unknown</td>\n",
       "      <td>1</td>\n",
       "    </tr>\n",
       "    <tr>\n",
       "      <th>126</th>\n",
       "      <td>3352</td>\n",
       "      <td>Male</td>\n",
       "      <td>78.00</td>\n",
       "      <td>1</td>\n",
       "      <td>0</td>\n",
       "      <td>Yes</td>\n",
       "      <td>Self-employed</td>\n",
       "      <td>Urban</td>\n",
       "      <td>93.13</td>\n",
       "      <td>NaN</td>\n",
       "      <td>formerly smoked</td>\n",
       "      <td>1</td>\n",
       "    </tr>\n",
       "    <tr>\n",
       "      <th>129</th>\n",
       "      <td>48796</td>\n",
       "      <td>Female</td>\n",
       "      <td>75.00</td>\n",
       "      <td>0</td>\n",
       "      <td>0</td>\n",
       "      <td>Yes</td>\n",
       "      <td>Govt_job</td>\n",
       "      <td>Urban</td>\n",
       "      <td>62.48</td>\n",
       "      <td>NaN</td>\n",
       "      <td>Unknown</td>\n",
       "      <td>1</td>\n",
       "    </tr>\n",
       "    <tr>\n",
       "      <th>133</th>\n",
       "      <td>31563</td>\n",
       "      <td>Female</td>\n",
       "      <td>38.00</td>\n",
       "      <td>0</td>\n",
       "      <td>0</td>\n",
       "      <td>Yes</td>\n",
       "      <td>Private</td>\n",
       "      <td>Rural</td>\n",
       "      <td>101.45</td>\n",
       "      <td>NaN</td>\n",
       "      <td>formerly smoked</td>\n",
       "      <td>1</td>\n",
       "    </tr>\n",
       "    <tr>\n",
       "      <th>146</th>\n",
       "      <td>41241</td>\n",
       "      <td>Male</td>\n",
       "      <td>65.00</td>\n",
       "      <td>0</td>\n",
       "      <td>0</td>\n",
       "      <td>Yes</td>\n",
       "      <td>Self-employed</td>\n",
       "      <td>Urban</td>\n",
       "      <td>68.43</td>\n",
       "      <td>NaN</td>\n",
       "      <td>formerly smoked</td>\n",
       "      <td>1</td>\n",
       "    </tr>\n",
       "    <tr>\n",
       "      <th>150</th>\n",
       "      <td>11933</td>\n",
       "      <td>Female</td>\n",
       "      <td>79.00</td>\n",
       "      <td>0</td>\n",
       "      <td>0</td>\n",
       "      <td>Yes</td>\n",
       "      <td>Private</td>\n",
       "      <td>Rural</td>\n",
       "      <td>169.67</td>\n",
       "      <td>NaN</td>\n",
       "      <td>Unknown</td>\n",
       "      <td>1</td>\n",
       "    </tr>\n",
       "    <tr>\n",
       "      <th>160</th>\n",
       "      <td>50931</td>\n",
       "      <td>Female</td>\n",
       "      <td>76.00</td>\n",
       "      <td>0</td>\n",
       "      <td>0</td>\n",
       "      <td>Yes</td>\n",
       "      <td>Private</td>\n",
       "      <td>Urban</td>\n",
       "      <td>57.92</td>\n",
       "      <td>NaN</td>\n",
       "      <td>formerly smoked</td>\n",
       "      <td>1</td>\n",
       "    </tr>\n",
       "    <tr>\n",
       "      <th>161</th>\n",
       "      <td>16590</td>\n",
       "      <td>Male</td>\n",
       "      <td>71.00</td>\n",
       "      <td>0</td>\n",
       "      <td>1</td>\n",
       "      <td>Yes</td>\n",
       "      <td>Private</td>\n",
       "      <td>Urban</td>\n",
       "      <td>81.76</td>\n",
       "      <td>NaN</td>\n",
       "      <td>smokes</td>\n",
       "      <td>1</td>\n",
       "    </tr>\n",
       "    <tr>\n",
       "      <th>162</th>\n",
       "      <td>69768</td>\n",
       "      <td>Female</td>\n",
       "      <td>1.32</td>\n",
       "      <td>0</td>\n",
       "      <td>0</td>\n",
       "      <td>No</td>\n",
       "      <td>children</td>\n",
       "      <td>Urban</td>\n",
       "      <td>70.37</td>\n",
       "      <td>NaN</td>\n",
       "      <td>Unknown</td>\n",
       "      <td>1</td>\n",
       "    </tr>\n",
       "    <tr>\n",
       "      <th>167</th>\n",
       "      <td>43364</td>\n",
       "      <td>Male</td>\n",
       "      <td>79.00</td>\n",
       "      <td>1</td>\n",
       "      <td>0</td>\n",
       "      <td>Yes</td>\n",
       "      <td>Private</td>\n",
       "      <td>Rural</td>\n",
       "      <td>75.02</td>\n",
       "      <td>NaN</td>\n",
       "      <td>never smoked</td>\n",
       "      <td>1</td>\n",
       "    </tr>\n",
       "    <tr>\n",
       "      <th>170</th>\n",
       "      <td>28939</td>\n",
       "      <td>Male</td>\n",
       "      <td>64.00</td>\n",
       "      <td>0</td>\n",
       "      <td>0</td>\n",
       "      <td>Yes</td>\n",
       "      <td>Self-employed</td>\n",
       "      <td>Rural</td>\n",
       "      <td>111.98</td>\n",
       "      <td>NaN</td>\n",
       "      <td>formerly smoked</td>\n",
       "      <td>1</td>\n",
       "    </tr>\n",
       "    <tr>\n",
       "      <th>171</th>\n",
       "      <td>60739</td>\n",
       "      <td>Female</td>\n",
       "      <td>79.00</td>\n",
       "      <td>1</td>\n",
       "      <td>1</td>\n",
       "      <td>No</td>\n",
       "      <td>Self-employed</td>\n",
       "      <td>Rural</td>\n",
       "      <td>60.94</td>\n",
       "      <td>NaN</td>\n",
       "      <td>never smoked</td>\n",
       "      <td>1</td>\n",
       "    </tr>\n",
       "    <tr>\n",
       "      <th>174</th>\n",
       "      <td>40899</td>\n",
       "      <td>Female</td>\n",
       "      <td>78.00</td>\n",
       "      <td>0</td>\n",
       "      <td>0</td>\n",
       "      <td>Yes</td>\n",
       "      <td>Self-employed</td>\n",
       "      <td>Rural</td>\n",
       "      <td>60.67</td>\n",
       "      <td>NaN</td>\n",
       "      <td>formerly smoked</td>\n",
       "      <td>1</td>\n",
       "    </tr>\n",
       "    <tr>\n",
       "      <th>178</th>\n",
       "      <td>33486</td>\n",
       "      <td>Female</td>\n",
       "      <td>80.00</td>\n",
       "      <td>0</td>\n",
       "      <td>0</td>\n",
       "      <td>Yes</td>\n",
       "      <td>Govt_job</td>\n",
       "      <td>Urban</td>\n",
       "      <td>110.66</td>\n",
       "      <td>NaN</td>\n",
       "      <td>Unknown</td>\n",
       "      <td>1</td>\n",
       "    </tr>\n",
       "    <tr>\n",
       "      <th>183</th>\n",
       "      <td>8003</td>\n",
       "      <td>Female</td>\n",
       "      <td>77.00</td>\n",
       "      <td>0</td>\n",
       "      <td>0</td>\n",
       "      <td>No</td>\n",
       "      <td>Private</td>\n",
       "      <td>Urban</td>\n",
       "      <td>81.32</td>\n",
       "      <td>NaN</td>\n",
       "      <td>Unknown</td>\n",
       "      <td>1</td>\n",
       "    </tr>\n",
       "    <tr>\n",
       "      <th>189</th>\n",
       "      <td>66955</td>\n",
       "      <td>Male</td>\n",
       "      <td>61.00</td>\n",
       "      <td>0</td>\n",
       "      <td>1</td>\n",
       "      <td>Yes</td>\n",
       "      <td>Private</td>\n",
       "      <td>Urban</td>\n",
       "      <td>209.86</td>\n",
       "      <td>NaN</td>\n",
       "      <td>Unknown</td>\n",
       "      <td>1</td>\n",
       "    </tr>\n",
       "    <tr>\n",
       "      <th>198</th>\n",
       "      <td>18937</td>\n",
       "      <td>Male</td>\n",
       "      <td>79.00</td>\n",
       "      <td>0</td>\n",
       "      <td>0</td>\n",
       "      <td>Yes</td>\n",
       "      <td>Private</td>\n",
       "      <td>Rural</td>\n",
       "      <td>114.77</td>\n",
       "      <td>NaN</td>\n",
       "      <td>formerly smoked</td>\n",
       "      <td>1</td>\n",
       "    </tr>\n",
       "    <tr>\n",
       "      <th>200</th>\n",
       "      <td>54695</td>\n",
       "      <td>Male</td>\n",
       "      <td>74.00</td>\n",
       "      <td>0</td>\n",
       "      <td>0</td>\n",
       "      <td>Yes</td>\n",
       "      <td>Private</td>\n",
       "      <td>Urban</td>\n",
       "      <td>167.13</td>\n",
       "      <td>NaN</td>\n",
       "      <td>Unknown</td>\n",
       "      <td>1</td>\n",
       "    </tr>\n",
       "    <tr>\n",
       "      <th>218</th>\n",
       "      <td>25904</td>\n",
       "      <td>Female</td>\n",
       "      <td>76.00</td>\n",
       "      <td>1</td>\n",
       "      <td>1</td>\n",
       "      <td>Yes</td>\n",
       "      <td>Self-employed</td>\n",
       "      <td>Urban</td>\n",
       "      <td>199.86</td>\n",
       "      <td>NaN</td>\n",
       "      <td>smokes</td>\n",
       "      <td>1</td>\n",
       "    </tr>\n",
       "    <tr>\n",
       "      <th>227</th>\n",
       "      <td>39105</td>\n",
       "      <td>Male</td>\n",
       "      <td>74.00</td>\n",
       "      <td>0</td>\n",
       "      <td>0</td>\n",
       "      <td>Yes</td>\n",
       "      <td>Self-employed</td>\n",
       "      <td>Rural</td>\n",
       "      <td>60.98</td>\n",
       "      <td>NaN</td>\n",
       "      <td>never smoked</td>\n",
       "      <td>1</td>\n",
       "    </tr>\n",
       "    <tr>\n",
       "      <th>247</th>\n",
       "      <td>34060</td>\n",
       "      <td>Male</td>\n",
       "      <td>71.00</td>\n",
       "      <td>1</td>\n",
       "      <td>0</td>\n",
       "      <td>Yes</td>\n",
       "      <td>Self-employed</td>\n",
       "      <td>Rural</td>\n",
       "      <td>87.80</td>\n",
       "      <td>NaN</td>\n",
       "      <td>Unknown</td>\n",
       "      <td>1</td>\n",
       "    </tr>\n",
       "  </tbody>\n",
       "</table>\n",
       "</div>"
      ],
      "text/plain": [
       "        id  gender    age  hypertension  heart_disease ever_married  \\\n",
       "1    51676  Female  61.00             0              0          Yes   \n",
       "8    27419  Female  59.00             0              0          Yes   \n",
       "13    8213    Male  78.00             0              1          Yes   \n",
       "19   25226    Male  57.00             0              1           No   \n",
       "27   61843    Male  58.00             0              0          Yes   \n",
       "29   69160    Male  59.00             0              0          Yes   \n",
       "43    1845  Female  63.00             0              0          Yes   \n",
       "46   37937  Female  75.00             0              1           No   \n",
       "50   18587  Female  76.00             0              0           No   \n",
       "51   15102    Male  78.00             1              0          Yes   \n",
       "54    8752  Female  63.00             0              0          Yes   \n",
       "57   66400    Male  78.00             0              0          Yes   \n",
       "64    7356    Male  75.00             0              0          Yes   \n",
       "70   70676  Female  76.00             0              0          Yes   \n",
       "78   45805  Female  51.00             0              0          Yes   \n",
       "81   26015  Female  66.00             0              0          Yes   \n",
       "84   70042    Male  58.00             0              0          Yes   \n",
       "105   2346    Male  58.00             0              0          Yes   \n",
       "112  36706  Female  76.00             0              0          Yes   \n",
       "124  14164  Female  72.00             0              0          Yes   \n",
       "126   3352    Male  78.00             1              0          Yes   \n",
       "129  48796  Female  75.00             0              0          Yes   \n",
       "133  31563  Female  38.00             0              0          Yes   \n",
       "146  41241    Male  65.00             0              0          Yes   \n",
       "150  11933  Female  79.00             0              0          Yes   \n",
       "160  50931  Female  76.00             0              0          Yes   \n",
       "161  16590    Male  71.00             0              1          Yes   \n",
       "162  69768  Female   1.32             0              0           No   \n",
       "167  43364    Male  79.00             1              0          Yes   \n",
       "170  28939    Male  64.00             0              0          Yes   \n",
       "171  60739  Female  79.00             1              1           No   \n",
       "174  40899  Female  78.00             0              0          Yes   \n",
       "178  33486  Female  80.00             0              0          Yes   \n",
       "183   8003  Female  77.00             0              0           No   \n",
       "189  66955    Male  61.00             0              1          Yes   \n",
       "198  18937    Male  79.00             0              0          Yes   \n",
       "200  54695    Male  74.00             0              0          Yes   \n",
       "218  25904  Female  76.00             1              1          Yes   \n",
       "227  39105    Male  74.00             0              0          Yes   \n",
       "247  34060    Male  71.00             1              0          Yes   \n",
       "\n",
       "         work_type Residence_type  avg_glucose_level  bmi   smoking_status  \\\n",
       "1    Self-employed          Rural             202.21  NaN     never smoked   \n",
       "8          Private          Rural              76.15  NaN          Unknown   \n",
       "13         Private          Urban             219.84  NaN          Unknown   \n",
       "19        Govt_job          Urban             217.08  NaN          Unknown   \n",
       "27         Private          Rural             189.84  NaN          Unknown   \n",
       "29         Private          Rural             211.78  NaN  formerly smoked   \n",
       "43         Private          Urban              90.90  NaN  formerly smoked   \n",
       "46   Self-employed          Urban             109.78  NaN          Unknown   \n",
       "50         Private          Urban              89.96  NaN          Unknown   \n",
       "51         Private          Urban              75.32  NaN  formerly smoked   \n",
       "54        Govt_job          Urban             197.54  NaN     never smoked   \n",
       "57         Private          Urban             237.75  NaN  formerly smoked   \n",
       "64         Private          Urban             104.72  NaN          Unknown   \n",
       "70        Govt_job          Rural              62.57  NaN  formerly smoked   \n",
       "78         Private          Urban             165.31  NaN     never smoked   \n",
       "81   Self-employed          Urban             101.45  NaN          Unknown   \n",
       "84         Private          Urban              71.20  NaN          Unknown   \n",
       "105        Private          Urban              82.30  NaN           smokes   \n",
       "112  Self-employed          Urban             106.41  NaN  formerly smoked   \n",
       "124        Private          Urban             219.91  NaN          Unknown   \n",
       "126  Self-employed          Urban              93.13  NaN  formerly smoked   \n",
       "129       Govt_job          Urban              62.48  NaN          Unknown   \n",
       "133        Private          Rural             101.45  NaN  formerly smoked   \n",
       "146  Self-employed          Urban              68.43  NaN  formerly smoked   \n",
       "150        Private          Rural             169.67  NaN          Unknown   \n",
       "160        Private          Urban              57.92  NaN  formerly smoked   \n",
       "161        Private          Urban              81.76  NaN           smokes   \n",
       "162       children          Urban              70.37  NaN          Unknown   \n",
       "167        Private          Rural              75.02  NaN     never smoked   \n",
       "170  Self-employed          Rural             111.98  NaN  formerly smoked   \n",
       "171  Self-employed          Rural              60.94  NaN     never smoked   \n",
       "174  Self-employed          Rural              60.67  NaN  formerly smoked   \n",
       "178       Govt_job          Urban             110.66  NaN          Unknown   \n",
       "183        Private          Urban              81.32  NaN          Unknown   \n",
       "189        Private          Urban             209.86  NaN          Unknown   \n",
       "198        Private          Rural             114.77  NaN  formerly smoked   \n",
       "200        Private          Urban             167.13  NaN          Unknown   \n",
       "218  Self-employed          Urban             199.86  NaN           smokes   \n",
       "227  Self-employed          Rural              60.98  NaN     never smoked   \n",
       "247  Self-employed          Rural              87.80  NaN          Unknown   \n",
       "\n",
       "     stroke  \n",
       "1         1  \n",
       "8         1  \n",
       "13        1  \n",
       "19        1  \n",
       "27        1  \n",
       "29        1  \n",
       "43        1  \n",
       "46        1  \n",
       "50        1  \n",
       "51        1  \n",
       "54        1  \n",
       "57        1  \n",
       "64        1  \n",
       "70        1  \n",
       "78        1  \n",
       "81        1  \n",
       "84        1  \n",
       "105       1  \n",
       "112       1  \n",
       "124       1  \n",
       "126       1  \n",
       "129       1  \n",
       "133       1  \n",
       "146       1  \n",
       "150       1  \n",
       "160       1  \n",
       "161       1  \n",
       "162       1  \n",
       "167       1  \n",
       "170       1  \n",
       "171       1  \n",
       "174       1  \n",
       "178       1  \n",
       "183       1  \n",
       "189       1  \n",
       "198       1  \n",
       "200       1  \n",
       "218       1  \n",
       "227       1  \n",
       "247       1  "
      ]
     },
     "metadata": {},
     "execution_count": 5
    }
   ],
   "metadata": {}
  },
  {
   "cell_type": "markdown",
   "source": [
    "Thấy rằng có 40 người thiếu thông tin BMI đã từng bị đột quỵ (trên tổng số 249 người bị đột quỵ) là một tỉ lệ lớn, nên để chắc chắn ta sẽ thay thế các dữ liệu BMI thiếu bằng trung bình của BMI các dữ liệu quan sát."
   ],
   "metadata": {}
  },
  {
   "cell_type": "code",
   "execution_count": 6,
   "source": [
    "data['bmi'] = data['bmi'].fillna(data['bmi'].mean())\n",
    "data.info()"
   ],
   "outputs": [
    {
     "output_type": "stream",
     "name": "stdout",
     "text": [
      "<class 'pandas.core.frame.DataFrame'>\n",
      "RangeIndex: 5110 entries, 0 to 5109\n",
      "Data columns (total 12 columns):\n",
      " #   Column             Non-Null Count  Dtype  \n",
      "---  ------             --------------  -----  \n",
      " 0   id                 5110 non-null   int64  \n",
      " 1   gender             5110 non-null   object \n",
      " 2   age                5110 non-null   float64\n",
      " 3   hypertension       5110 non-null   int64  \n",
      " 4   heart_disease      5110 non-null   int64  \n",
      " 5   ever_married       5110 non-null   object \n",
      " 6   work_type          5110 non-null   object \n",
      " 7   Residence_type     5110 non-null   object \n",
      " 8   avg_glucose_level  5110 non-null   float64\n",
      " 9   bmi                5110 non-null   float64\n",
      " 10  smoking_status     5110 non-null   object \n",
      " 11  stroke             5110 non-null   int64  \n",
      "dtypes: float64(3), int64(4), object(5)\n",
      "memory usage: 479.2+ KB\n"
     ]
    }
   ],
   "metadata": {}
  },
  {
   "cell_type": "code",
   "execution_count": 7,
   "source": [
    "data.describe()"
   ],
   "outputs": [
    {
     "output_type": "execute_result",
     "data": {
      "text/html": [
       "<div>\n",
       "<style scoped>\n",
       "    .dataframe tbody tr th:only-of-type {\n",
       "        vertical-align: middle;\n",
       "    }\n",
       "\n",
       "    .dataframe tbody tr th {\n",
       "        vertical-align: top;\n",
       "    }\n",
       "\n",
       "    .dataframe thead th {\n",
       "        text-align: right;\n",
       "    }\n",
       "</style>\n",
       "<table border=\"1\" class=\"dataframe\">\n",
       "  <thead>\n",
       "    <tr style=\"text-align: right;\">\n",
       "      <th></th>\n",
       "      <th>id</th>\n",
       "      <th>age</th>\n",
       "      <th>hypertension</th>\n",
       "      <th>heart_disease</th>\n",
       "      <th>avg_glucose_level</th>\n",
       "      <th>bmi</th>\n",
       "      <th>stroke</th>\n",
       "    </tr>\n",
       "  </thead>\n",
       "  <tbody>\n",
       "    <tr>\n",
       "      <th>count</th>\n",
       "      <td>5110.000000</td>\n",
       "      <td>5110.000000</td>\n",
       "      <td>5110.000000</td>\n",
       "      <td>5110.000000</td>\n",
       "      <td>5110.000000</td>\n",
       "      <td>5110.000000</td>\n",
       "      <td>5110.000000</td>\n",
       "    </tr>\n",
       "    <tr>\n",
       "      <th>mean</th>\n",
       "      <td>36517.829354</td>\n",
       "      <td>43.226614</td>\n",
       "      <td>0.097456</td>\n",
       "      <td>0.054012</td>\n",
       "      <td>106.147677</td>\n",
       "      <td>28.893237</td>\n",
       "      <td>0.048728</td>\n",
       "    </tr>\n",
       "    <tr>\n",
       "      <th>std</th>\n",
       "      <td>21161.721625</td>\n",
       "      <td>22.612647</td>\n",
       "      <td>0.296607</td>\n",
       "      <td>0.226063</td>\n",
       "      <td>45.283560</td>\n",
       "      <td>7.698018</td>\n",
       "      <td>0.215320</td>\n",
       "    </tr>\n",
       "    <tr>\n",
       "      <th>min</th>\n",
       "      <td>67.000000</td>\n",
       "      <td>0.080000</td>\n",
       "      <td>0.000000</td>\n",
       "      <td>0.000000</td>\n",
       "      <td>55.120000</td>\n",
       "      <td>10.300000</td>\n",
       "      <td>0.000000</td>\n",
       "    </tr>\n",
       "    <tr>\n",
       "      <th>25%</th>\n",
       "      <td>17741.250000</td>\n",
       "      <td>25.000000</td>\n",
       "      <td>0.000000</td>\n",
       "      <td>0.000000</td>\n",
       "      <td>77.245000</td>\n",
       "      <td>23.800000</td>\n",
       "      <td>0.000000</td>\n",
       "    </tr>\n",
       "    <tr>\n",
       "      <th>50%</th>\n",
       "      <td>36932.000000</td>\n",
       "      <td>45.000000</td>\n",
       "      <td>0.000000</td>\n",
       "      <td>0.000000</td>\n",
       "      <td>91.885000</td>\n",
       "      <td>28.400000</td>\n",
       "      <td>0.000000</td>\n",
       "    </tr>\n",
       "    <tr>\n",
       "      <th>75%</th>\n",
       "      <td>54682.000000</td>\n",
       "      <td>61.000000</td>\n",
       "      <td>0.000000</td>\n",
       "      <td>0.000000</td>\n",
       "      <td>114.090000</td>\n",
       "      <td>32.800000</td>\n",
       "      <td>0.000000</td>\n",
       "    </tr>\n",
       "    <tr>\n",
       "      <th>max</th>\n",
       "      <td>72940.000000</td>\n",
       "      <td>82.000000</td>\n",
       "      <td>1.000000</td>\n",
       "      <td>1.000000</td>\n",
       "      <td>271.740000</td>\n",
       "      <td>97.600000</td>\n",
       "      <td>1.000000</td>\n",
       "    </tr>\n",
       "  </tbody>\n",
       "</table>\n",
       "</div>"
      ],
      "text/plain": [
       "                 id          age  hypertension  heart_disease  \\\n",
       "count   5110.000000  5110.000000   5110.000000    5110.000000   \n",
       "mean   36517.829354    43.226614      0.097456       0.054012   \n",
       "std    21161.721625    22.612647      0.296607       0.226063   \n",
       "min       67.000000     0.080000      0.000000       0.000000   \n",
       "25%    17741.250000    25.000000      0.000000       0.000000   \n",
       "50%    36932.000000    45.000000      0.000000       0.000000   \n",
       "75%    54682.000000    61.000000      0.000000       0.000000   \n",
       "max    72940.000000    82.000000      1.000000       1.000000   \n",
       "\n",
       "       avg_glucose_level          bmi       stroke  \n",
       "count        5110.000000  5110.000000  5110.000000  \n",
       "mean          106.147677    28.893237     0.048728  \n",
       "std            45.283560     7.698018     0.215320  \n",
       "min            55.120000    10.300000     0.000000  \n",
       "25%            77.245000    23.800000     0.000000  \n",
       "50%            91.885000    28.400000     0.000000  \n",
       "75%           114.090000    32.800000     0.000000  \n",
       "max           271.740000    97.600000     1.000000  "
      ]
     },
     "metadata": {},
     "execution_count": 7
    }
   ],
   "metadata": {}
  },
  {
   "cell_type": "markdown",
   "source": [
    "## ID"
   ],
   "metadata": {}
  },
  {
   "cell_type": "code",
   "execution_count": 8,
   "source": [
    "data.id.nunique()"
   ],
   "outputs": [
    {
     "output_type": "execute_result",
     "data": {
      "text/plain": [
       "5110"
      ]
     },
     "metadata": {},
     "execution_count": 8
    }
   ],
   "metadata": {}
  },
  {
   "cell_type": "markdown",
   "source": [
    "Thấy rằng tổng số id bằng với số dòng dữ liệu, ở đây ta không cần định danh từng dòng dữ liệu nữa nên sẽ bỏ cột này đi."
   ],
   "metadata": {}
  },
  {
   "cell_type": "code",
   "execution_count": 9,
   "source": [
    "data.drop(columns=['id'], inplace=True)\n",
    "data.shape"
   ],
   "outputs": [
    {
     "output_type": "execute_result",
     "data": {
      "text/plain": [
       "(5110, 11)"
      ]
     },
     "metadata": {},
     "execution_count": 9
    }
   ],
   "metadata": {}
  },
  {
   "cell_type": "markdown",
   "source": [
    "## Gender"
   ],
   "metadata": {}
  },
  {
   "cell_type": "code",
   "execution_count": 10,
   "source": [
    "data['gender'].value_counts()"
   ],
   "outputs": [
    {
     "output_type": "execute_result",
     "data": {
      "text/plain": [
       "Female    2994\n",
       "Male      2115\n",
       "Other        1\n",
       "Name: gender, dtype: int64"
      ]
     },
     "metadata": {},
     "execution_count": 10
    }
   ],
   "metadata": {}
  },
  {
   "cell_type": "markdown",
   "source": [
    "Ta thấy giới tính \"Other\" ở đây chỉ có 1 dòng dữ liệu, nên sẽ sử dụng trung vị của Gender thay cho giới tính này."
   ],
   "metadata": {}
  },
  {
   "cell_type": "code",
   "execution_count": 11,
   "source": [
    "data['gender'].replace('Other', list(data['gender'].mode().values)[0], inplace=True)\n",
    "\n",
    "data['gender'].value_counts()"
   ],
   "outputs": [
    {
     "output_type": "execute_result",
     "data": {
      "text/plain": [
       "Female    2995\n",
       "Male      2115\n",
       "Name: gender, dtype: int64"
      ]
     },
     "metadata": {},
     "execution_count": 11
    }
   ],
   "metadata": {}
  },
  {
   "cell_type": "markdown",
   "source": [
    "# EDA"
   ],
   "metadata": {}
  },
  {
   "cell_type": "markdown",
   "source": [
    "## Phân tích biến định tính"
   ],
   "metadata": {}
  },
  {
   "cell_type": "code",
   "execution_count": 12,
   "source": [
    "df_cat = ['gender','hypertension','heart_disease','ever_married','work_type','Residence_type','smoking_status', 'stroke']\n",
    "\n",
    "fig, axs = plt.subplots(4,2, figsize=(14,20))\n",
    "axs = axs.flatten()\n",
    "\n",
    "for i, col_name in enumerate(df_cat):\n",
    "    sns.countplot(x=col_name, data=data, ax = axs[i], hue=data['stroke'])\n",
    "    plt.title('Bar chart of')\n",
    "    axs[i].set_xlabel(f'{col_name}', weight='bold')\n",
    "    axs[i].set_ylabel('Count', weight='bold')"
   ],
   "outputs": [
    {
     "output_type": "display_data",
     "data": {
      "image/png": "[encoded data removed]",
      "text/plain": [
       "<Figure size 1008x1440 with 8 Axes>"
      ]
     },
     "metadata": {
      "needs_background": "light"
     }
    }
   ],
   "metadata": {}
  },
  {
   "cell_type": "markdown",
   "source": [
    "Quan sát thấy:\n",
    "- gender: Không có sự khác biệt nhiều giữa tỉ lệ người bị đột quỵ giữa 2 giới tính.\n",
    "- hypertension: những người cao huyết áp có nguy cơ cao bị đột quỵ (trên biểu đồ do dữ liệu nhỏ nên đang thể hiện không rõ ràng - quan sát này dựa trên tìm hiểu cá nhân)\n",
    "- heart_disease: những người được chẩn đoán mắc bệnh tim cũng có nguy cơ cao bị đột quỵ.\n",
    "- ever_married: những người đã kết hôn có nguy cơ cao bị đột quỵ\n",
    "- work_type: những người có kinh nghiệm làm việc và các công việc có liên quan đến nhà nước có nguy cơ cao bị đột quỵ, những người chưa đi làm hiếm khi bị đột quỵ.\n",
    "- residence_type: không có mối liên quan rõ ràng giữa biến này với việc bị đột quỵ.\n",
    "- smoking_status: Những người từng hút thuốc hoặc đang hút thuốc tăng nguy cơ bị đột quỵ."
   ],
   "metadata": {}
  },
  {
   "cell_type": "markdown",
   "source": [
    "## Phân tích biến định lượng"
   ],
   "metadata": {}
  },
  {
   "cell_type": "code",
   "execution_count": 13,
   "source": [
    "df_num = ['age', 'avg_glucose_level', 'bmi']\n"
   ],
   "outputs": [],
   "metadata": {}
  },
  {
   "cell_type": "code",
   "execution_count": 14,
   "source": [
    "fig, axs = plt.subplots(1, 3, figsize=(16,5))\n",
    "axs = axs.flatten()\n",
    "for i, col_name in enumerate(df_num):\n",
    "    sns.histplot(data[f'{col_name}'], ax = axs[i])"
   ],
   "outputs": [
    {
     "output_type": "display_data",
     "data": {
      "image/png": "[encoded data removed]",
      "text/plain": [
       "<Figure size 1152x360 with 3 Axes>"
      ]
     },
     "metadata": {
      "needs_background": "light"
     }
    }
   ],
   "metadata": {}
  },
  {
   "cell_type": "code",
   "execution_count": 15,
   "source": [
    "fig, axs = plt.subplots(1, 3, figsize=(16,5))\n",
    "axs = axs.flatten()\n",
    "for i, col_name in enumerate(df_num):\n",
    "    sns.boxplot(x=\"stroke\", y=col_name, data=data, ax=axs[i])\n",
    "    axs[i].set_xlabel(\"Stroke\", weight = 'bold')\n",
    "    axs[i].set_ylabel(f\"{col_name}\", weight='bold')"
   ],
   "outputs": [
    {
     "output_type": "display_data",
     "data": {
      "image/png": "[encoded data removed]",
      "text/plain": [
       "<Figure size 1152x360 with 3 Axes>"
      ]
     },
     "metadata": {
      "needs_background": "light"
     }
    }
   ],
   "metadata": {}
  },
  {
   "cell_type": "markdown",
   "source": [
    "Quan sát thấy:\n",
    "- age: những người bị đột quỵ thường có độ tuổi trung bình cao hơn những người không bị. Những người ở độ tuổi >60 có nguy cơ bị đột quỵ cao hơn. Có 1 vài outlier là những người ở độ tuổi 20 bị đột quỵ, có thể coi là dữ liệu hợp lệ vì đột quỵ còn phụ thuộc vào lối sống và cách ăn uống. Những người không bị đột quỵ đều trong độ tuổi từ 20 - dưới 60.\n",
    "- avg_glucose_level: những người bị đột quỵ có xu hướng trung bình đường huyết cao hơn những người không bị. Có khá nhiều outliers bệnh nhân không bị đột quỵ.\n",
    "- bmi: chỉ số bmi không cho biết nhiều về khả năng bị đột quỵ. Tuy nhiên ta thấy có rất nhiều outlier ở biến này. "
   ],
   "metadata": {}
  },
  {
   "cell_type": "code",
   "execution_count": 16,
   "source": [
    "bmi_outliers = data.loc[data['bmi'] > 50]\n",
    "bmi_outliers['bmi'].shape"
   ],
   "outputs": [
    {
     "output_type": "execute_result",
     "data": {
      "text/plain": [
       "(79,)"
      ]
     },
     "metadata": {},
     "execution_count": 16
    }
   ],
   "metadata": {}
  },
  {
   "cell_type": "markdown",
   "source": [
    "Có tất cả 79 outliers của bmi. Qua tìm hiểu thì thấy chỉ số BMI của những người rất béo phì là 50 -> ta sẽ thay thế các outlier bằng giá trị này."
   ],
   "metadata": {}
  },
  {
   "cell_type": "code",
   "execution_count": 17,
   "source": [
    "data['bmi'] = pd.to_numeric(data['bmi'])\n",
    "data['bmi'] = data['bmi'].apply(lambda x: 50 if x>50 else x)"
   ],
   "outputs": [],
   "metadata": {}
  },
  {
   "cell_type": "code",
   "execution_count": 18,
   "source": [
    "sns.boxplot(data=data, x=data['bmi'])\n",
    "plt.title('Boxplot of BMI distribution')"
   ],
   "outputs": [
    {
     "output_type": "execute_result",
     "data": {
      "text/plain": [
       "Text(0.5, 1.0, 'Boxplot of BMI distribution')"
      ]
     },
     "metadata": {},
     "execution_count": 18
    },
    {
     "output_type": "display_data",
     "data": {
      "image/png": "[encoded data removed]",
      "text/plain": [
       "<Figure size 432x288 with 1 Axes>"
      ]
     },
     "metadata": {
      "needs_background": "light"
     }
    }
   ],
   "metadata": {}
  },
  {
   "cell_type": "code",
   "execution_count": 19,
   "source": [
    "data['stroke'].value_counts()"
   ],
   "outputs": [
    {
     "output_type": "execute_result",
     "data": {
      "text/plain": [
       "0    4861\n",
       "1     249\n",
       "Name: stroke, dtype: int64"
      ]
     },
     "metadata": {},
     "execution_count": 19
    }
   ],
   "metadata": {}
  },
  {
   "cell_type": "code",
   "execution_count": 20,
   "source": [
    "plt.figure(figsize=(4,4))\n",
    "data['stroke'].value_counts().plot.pie(autopct='%1.1f%%')\n",
    "plt.title('Pie chart of stroke status')\n",
    "plt.tight_layout()"
   ],
   "outputs": [
    {
     "output_type": "display_data",
     "data": {
      "image/png": "[encoded data removed]",
      "text/plain": [
       "<Figure size 288x288 with 1 Axes>"
      ]
     },
     "metadata": {}
    }
   ],
   "metadata": {}
  },
  {
   "cell_type": "markdown",
   "source": [
    "Ta thấy bộ dữ liệu có sự mất cân bằng. Chỉ có 4.9% quan sát trong mẫu đã từng bị đột quỵ."
   ],
   "metadata": {}
  },
  {
   "cell_type": "markdown",
   "source": [
    "## Phân tích đa cộng tuyến\n",
    "Việc phân tích tương quan chỉ chấp nhận các biến định lượng nên ta cần chuyển các biến định tính về các giá trị 0, 1. Ở đây ta dùng LabelEncoder từ thư viện sklearn.preprocessing để làm việc này."
   ],
   "metadata": {}
  },
  {
   "cell_type": "code",
   "execution_count": 21,
   "source": [
    "from sklearn.preprocessing import LabelEncoder\n",
    "\n",
    "le = LabelEncoder()\n",
    "\n",
    "data['gender'] = le.fit_transform(data['gender'])\n",
    "data['ever_married'] = le.fit_transform(data['ever_married'])\n",
    "data['work_type'] = le.fit_transform(data['work_type'])\n",
    "data['Residence_type'] = le.fit_transform(data['Residence_type'])\n",
    "data['smoking_status'] = le.fit_transform(data['smoking_status'])\n",
    "\n",
    "df_en = data\n",
    "df_en.head()"
   ],
   "outputs": [
    {
     "output_type": "execute_result",
     "data": {
      "text/html": [
       "<div>\n",
       "<style scoped>\n",
       "    .dataframe tbody tr th:only-of-type {\n",
       "        vertical-align: middle;\n",
       "    }\n",
       "\n",
       "    .dataframe tbody tr th {\n",
       "        vertical-align: top;\n",
       "    }\n",
       "\n",
       "    .dataframe thead th {\n",
       "        text-align: right;\n",
       "    }\n",
       "</style>\n",
       "<table border=\"1\" class=\"dataframe\">\n",
       "  <thead>\n",
       "    <tr style=\"text-align: right;\">\n",
       "      <th></th>\n",
       "      <th>gender</th>\n",
       "      <th>age</th>\n",
       "      <th>hypertension</th>\n",
       "      <th>heart_disease</th>\n",
       "      <th>ever_married</th>\n",
       "      <th>work_type</th>\n",
       "      <th>Residence_type</th>\n",
       "      <th>avg_glucose_level</th>\n",
       "      <th>bmi</th>\n",
       "      <th>smoking_status</th>\n",
       "      <th>stroke</th>\n",
       "    </tr>\n",
       "  </thead>\n",
       "  <tbody>\n",
       "    <tr>\n",
       "      <th>0</th>\n",
       "      <td>1</td>\n",
       "      <td>67.0</td>\n",
       "      <td>0</td>\n",
       "      <td>1</td>\n",
       "      <td>1</td>\n",
       "      <td>2</td>\n",
       "      <td>1</td>\n",
       "      <td>228.69</td>\n",
       "      <td>36.600000</td>\n",
       "      <td>1</td>\n",
       "      <td>1</td>\n",
       "    </tr>\n",
       "    <tr>\n",
       "      <th>1</th>\n",
       "      <td>0</td>\n",
       "      <td>61.0</td>\n",
       "      <td>0</td>\n",
       "      <td>0</td>\n",
       "      <td>1</td>\n",
       "      <td>3</td>\n",
       "      <td>0</td>\n",
       "      <td>202.21</td>\n",
       "      <td>28.893237</td>\n",
       "      <td>2</td>\n",
       "      <td>1</td>\n",
       "    </tr>\n",
       "    <tr>\n",
       "      <th>2</th>\n",
       "      <td>1</td>\n",
       "      <td>80.0</td>\n",
       "      <td>0</td>\n",
       "      <td>1</td>\n",
       "      <td>1</td>\n",
       "      <td>2</td>\n",
       "      <td>0</td>\n",
       "      <td>105.92</td>\n",
       "      <td>32.500000</td>\n",
       "      <td>2</td>\n",
       "      <td>1</td>\n",
       "    </tr>\n",
       "    <tr>\n",
       "      <th>3</th>\n",
       "      <td>0</td>\n",
       "      <td>49.0</td>\n",
       "      <td>0</td>\n",
       "      <td>0</td>\n",
       "      <td>1</td>\n",
       "      <td>2</td>\n",
       "      <td>1</td>\n",
       "      <td>171.23</td>\n",
       "      <td>34.400000</td>\n",
       "      <td>3</td>\n",
       "      <td>1</td>\n",
       "    </tr>\n",
       "    <tr>\n",
       "      <th>4</th>\n",
       "      <td>0</td>\n",
       "      <td>79.0</td>\n",
       "      <td>1</td>\n",
       "      <td>0</td>\n",
       "      <td>1</td>\n",
       "      <td>3</td>\n",
       "      <td>0</td>\n",
       "      <td>174.12</td>\n",
       "      <td>24.000000</td>\n",
       "      <td>2</td>\n",
       "      <td>1</td>\n",
       "    </tr>\n",
       "  </tbody>\n",
       "</table>\n",
       "</div>"
      ],
      "text/plain": [
       "   gender   age  hypertension  heart_disease  ever_married  work_type  \\\n",
       "0       1  67.0             0              1             1          2   \n",
       "1       0  61.0             0              0             1          3   \n",
       "2       1  80.0             0              1             1          2   \n",
       "3       0  49.0             0              0             1          2   \n",
       "4       0  79.0             1              0             1          3   \n",
       "\n",
       "   Residence_type  avg_glucose_level        bmi  smoking_status  stroke  \n",
       "0               1             228.69  36.600000               1       1  \n",
       "1               0             202.21  28.893237               2       1  \n",
       "2               0             105.92  32.500000               2       1  \n",
       "3               1             171.23  34.400000               3       1  \n",
       "4               0             174.12  24.000000               2       1  "
      ]
     },
     "metadata": {},
     "execution_count": 21
    }
   ],
   "metadata": {}
  },
  {
   "cell_type": "code",
   "execution_count": 22,
   "source": [
    "corr = df_en.corr().round(2)\n",
    "plt.figure(figsize=(10, 7))\n",
    "sns.heatmap(corr, annot = True, cmap = 'RdYlGn')"
   ],
   "outputs": [
    {
     "output_type": "execute_result",
     "data": {
      "text/plain": [
       "<AxesSubplot:>"
      ]
     },
     "metadata": {},
     "execution_count": 22
    },
    {
     "output_type": "display_data",
     "data": {
      "image/png": "[encoded data removed]",
      "text/plain": [
       "<Figure size 720x504 with 2 Axes>"
      ]
     },
     "metadata": {
      "needs_background": "light"
     }
    }
   ],
   "metadata": {}
  },
  {
   "cell_type": "markdown",
   "source": [
    "Từ biểu đồ heatmap ở trên ta thấy có xuất hiện hiện tượng đa cộng tuyến giữa 1 vài biến. VD biến ever_married và age có tương quan 0.68. Giữa 2 biến này ta thấy age có tương quan với stroke cao hơn nên ta sẽ bỏ ever_married."
   ],
   "metadata": {}
  },
  {
   "cell_type": "markdown",
   "source": [
    "Đồng thời ta cũng thấy sự tương quan giữa biến phụ thuộc \"stroke\" với các biến \"age\", \"hypertension\", \"heart_disease\", \"avg_glucose_level\""
   ],
   "metadata": {}
  },
  {
   "cell_type": "code",
   "execution_count": 23,
   "source": [
    "df_en = df_en.drop(['ever_married'], axis = 1)\n",
    "df_en.head(3)"
   ],
   "outputs": [
    {
     "output_type": "execute_result",
     "data": {
      "text/html": [
       "<div>\n",
       "<style scoped>\n",
       "    .dataframe tbody tr th:only-of-type {\n",
       "        vertical-align: middle;\n",
       "    }\n",
       "\n",
       "    .dataframe tbody tr th {\n",
       "        vertical-align: top;\n",
       "    }\n",
       "\n",
       "    .dataframe thead th {\n",
       "        text-align: right;\n",
       "    }\n",
       "</style>\n",
       "<table border=\"1\" class=\"dataframe\">\n",
       "  <thead>\n",
       "    <tr style=\"text-align: right;\">\n",
       "      <th></th>\n",
       "      <th>gender</th>\n",
       "      <th>age</th>\n",
       "      <th>hypertension</th>\n",
       "      <th>heart_disease</th>\n",
       "      <th>work_type</th>\n",
       "      <th>Residence_type</th>\n",
       "      <th>avg_glucose_level</th>\n",
       "      <th>bmi</th>\n",
       "      <th>smoking_status</th>\n",
       "      <th>stroke</th>\n",
       "    </tr>\n",
       "  </thead>\n",
       "  <tbody>\n",
       "    <tr>\n",
       "      <th>0</th>\n",
       "      <td>1</td>\n",
       "      <td>67.0</td>\n",
       "      <td>0</td>\n",
       "      <td>1</td>\n",
       "      <td>2</td>\n",
       "      <td>1</td>\n",
       "      <td>228.69</td>\n",
       "      <td>36.600000</td>\n",
       "      <td>1</td>\n",
       "      <td>1</td>\n",
       "    </tr>\n",
       "    <tr>\n",
       "      <th>1</th>\n",
       "      <td>0</td>\n",
       "      <td>61.0</td>\n",
       "      <td>0</td>\n",
       "      <td>0</td>\n",
       "      <td>3</td>\n",
       "      <td>0</td>\n",
       "      <td>202.21</td>\n",
       "      <td>28.893237</td>\n",
       "      <td>2</td>\n",
       "      <td>1</td>\n",
       "    </tr>\n",
       "    <tr>\n",
       "      <th>2</th>\n",
       "      <td>1</td>\n",
       "      <td>80.0</td>\n",
       "      <td>0</td>\n",
       "      <td>1</td>\n",
       "      <td>2</td>\n",
       "      <td>0</td>\n",
       "      <td>105.92</td>\n",
       "      <td>32.500000</td>\n",
       "      <td>2</td>\n",
       "      <td>1</td>\n",
       "    </tr>\n",
       "  </tbody>\n",
       "</table>\n",
       "</div>"
      ],
      "text/plain": [
       "   gender   age  hypertension  heart_disease  work_type  Residence_type  \\\n",
       "0       1  67.0             0              1          2               1   \n",
       "1       0  61.0             0              0          3               0   \n",
       "2       1  80.0             0              1          2               0   \n",
       "\n",
       "   avg_glucose_level        bmi  smoking_status  stroke  \n",
       "0             228.69  36.600000               1       1  \n",
       "1             202.21  28.893237               2       1  \n",
       "2             105.92  32.500000               2       1  "
      ]
     },
     "metadata": {},
     "execution_count": 23
    }
   ],
   "metadata": {}
  },
  {
   "cell_type": "markdown",
   "source": [
    "## Final preprocessing\n",
    "\n",
    "Các biến được đo lường ở các tỉ lệ khác nhau sẽ không đóng góp như nhau vào việc fitting mô hình, và có thể tạo ra sai lệch. Để giải quyết vấn đề này, ta sử dụng các tiêu chuẩn ($\\mu=0, \\sigma=1$) để chuẩn hóa lại các tỉ lệ này. Ở đây ta dùng thư viện StandardScaler() cho các biến \"avg_glucose_level\", \"bmi\", \"age\""
   ],
   "metadata": {}
  },
  {
   "cell_type": "code",
   "execution_count": 24,
   "source": [
    "from sklearn.preprocessing import StandardScaler\n",
    "\n",
    "s = StandardScaler()\n",
    "cols = ['avg_glucose_level','bmi','age']\n",
    "\n",
    "std_scaled = s.fit_transform(df_en[cols])\n",
    "\n",
    "std_scaled = pd.DataFrame(std_scaled, columns=cols)\n",
    "df_en = df_en.drop(columns=cols, axis=1)\n",
    "std_scaled.head()"
   ],
   "outputs": [
    {
     "output_type": "execute_result",
     "data": {
      "text/html": [
       "<div>\n",
       "<style scoped>\n",
       "    .dataframe tbody tr th:only-of-type {\n",
       "        vertical-align: middle;\n",
       "    }\n",
       "\n",
       "    .dataframe tbody tr th {\n",
       "        vertical-align: top;\n",
       "    }\n",
       "\n",
       "    .dataframe thead th {\n",
       "        text-align: right;\n",
       "    }\n",
       "</style>\n",
       "<table border=\"1\" class=\"dataframe\">\n",
       "  <thead>\n",
       "    <tr style=\"text-align: right;\">\n",
       "      <th></th>\n",
       "      <th>avg_glucose_level</th>\n",
       "      <th>bmi</th>\n",
       "      <th>age</th>\n",
       "    </tr>\n",
       "  </thead>\n",
       "  <tbody>\n",
       "    <tr>\n",
       "      <th>0</th>\n",
       "      <td>2.706375</td>\n",
       "      <td>1.066746</td>\n",
       "      <td>1.051434</td>\n",
       "    </tr>\n",
       "    <tr>\n",
       "      <th>1</th>\n",
       "      <td>2.121559</td>\n",
       "      <td>0.013363</td>\n",
       "      <td>0.786070</td>\n",
       "    </tr>\n",
       "    <tr>\n",
       "      <th>2</th>\n",
       "      <td>-0.005028</td>\n",
       "      <td>0.506346</td>\n",
       "      <td>1.626390</td>\n",
       "    </tr>\n",
       "    <tr>\n",
       "      <th>3</th>\n",
       "      <td>1.437358</td>\n",
       "      <td>0.766044</td>\n",
       "      <td>0.255342</td>\n",
       "    </tr>\n",
       "    <tr>\n",
       "      <th>4</th>\n",
       "      <td>1.501184</td>\n",
       "      <td>-0.655458</td>\n",
       "      <td>1.582163</td>\n",
       "    </tr>\n",
       "  </tbody>\n",
       "</table>\n",
       "</div>"
      ],
      "text/plain": [
       "   avg_glucose_level       bmi       age\n",
       "0           2.706375  1.066746  1.051434\n",
       "1           2.121559  0.013363  0.786070\n",
       "2          -0.005028  0.506346  1.626390\n",
       "3           1.437358  0.766044  0.255342\n",
       "4           1.501184 -0.655458  1.582163"
      ]
     },
     "metadata": {},
     "execution_count": 24
    }
   ],
   "metadata": {}
  },
  {
   "cell_type": "code",
   "execution_count": 25,
   "source": [
    "df = pd.concat([df_en, std_scaled], axis=1)\n",
    "df.head(3)"
   ],
   "outputs": [
    {
     "output_type": "execute_result",
     "data": {
      "text/html": [
       "<div>\n",
       "<style scoped>\n",
       "    .dataframe tbody tr th:only-of-type {\n",
       "        vertical-align: middle;\n",
       "    }\n",
       "\n",
       "    .dataframe tbody tr th {\n",
       "        vertical-align: top;\n",
       "    }\n",
       "\n",
       "    .dataframe thead th {\n",
       "        text-align: right;\n",
       "    }\n",
       "</style>\n",
       "<table border=\"1\" class=\"dataframe\">\n",
       "  <thead>\n",
       "    <tr style=\"text-align: right;\">\n",
       "      <th></th>\n",
       "      <th>gender</th>\n",
       "      <th>hypertension</th>\n",
       "      <th>heart_disease</th>\n",
       "      <th>work_type</th>\n",
       "      <th>Residence_type</th>\n",
       "      <th>smoking_status</th>\n",
       "      <th>stroke</th>\n",
       "      <th>avg_glucose_level</th>\n",
       "      <th>bmi</th>\n",
       "      <th>age</th>\n",
       "    </tr>\n",
       "  </thead>\n",
       "  <tbody>\n",
       "    <tr>\n",
       "      <th>0</th>\n",
       "      <td>1</td>\n",
       "      <td>0</td>\n",
       "      <td>1</td>\n",
       "      <td>2</td>\n",
       "      <td>1</td>\n",
       "      <td>1</td>\n",
       "      <td>1</td>\n",
       "      <td>2.706375</td>\n",
       "      <td>1.066746</td>\n",
       "      <td>1.051434</td>\n",
       "    </tr>\n",
       "    <tr>\n",
       "      <th>1</th>\n",
       "      <td>0</td>\n",
       "      <td>0</td>\n",
       "      <td>0</td>\n",
       "      <td>3</td>\n",
       "      <td>0</td>\n",
       "      <td>2</td>\n",
       "      <td>1</td>\n",
       "      <td>2.121559</td>\n",
       "      <td>0.013363</td>\n",
       "      <td>0.786070</td>\n",
       "    </tr>\n",
       "    <tr>\n",
       "      <th>2</th>\n",
       "      <td>1</td>\n",
       "      <td>0</td>\n",
       "      <td>1</td>\n",
       "      <td>2</td>\n",
       "      <td>0</td>\n",
       "      <td>2</td>\n",
       "      <td>1</td>\n",
       "      <td>-0.005028</td>\n",
       "      <td>0.506346</td>\n",
       "      <td>1.626390</td>\n",
       "    </tr>\n",
       "  </tbody>\n",
       "</table>\n",
       "</div>"
      ],
      "text/plain": [
       "   gender  hypertension  heart_disease  work_type  Residence_type  \\\n",
       "0       1             0              1          2               1   \n",
       "1       0             0              0          3               0   \n",
       "2       1             0              1          2               0   \n",
       "\n",
       "   smoking_status  stroke  avg_glucose_level       bmi       age  \n",
       "0               1       1           2.706375  1.066746  1.051434  \n",
       "1               2       1           2.121559  0.013363  0.786070  \n",
       "2               2       1          -0.005028  0.506346  1.626390  "
      ]
     },
     "metadata": {},
     "execution_count": 25
    }
   ],
   "metadata": {}
  },
  {
   "cell_type": "markdown",
   "source": [
    "# Mô hình hóa\n",
    "\n"
   ],
   "metadata": {}
  },
  {
   "cell_type": "markdown",
   "source": [
    "## KMeans implementation"
   ],
   "metadata": {}
  },
  {
   "cell_type": "markdown",
   "source": [
    "Tuy đã lựa chọn các biến dựa trên correlation ở trên nhưng để chắc chắn, ta sử dụng thư viện SelectKBest, f_classif để đánh lại điểm số mức độ ảnh hưởng của các biến đến biến phụ thuộc, sắp xếp theo thứ tự ảnh hưởng giảm dần."
   ],
   "metadata": {}
  },
  {
   "cell_type": "code",
   "execution_count": 26,
   "source": [
    "classifier = SelectKBest(score_func=f_classif,k=5)\n",
    "fits = classifier.fit(df.drop(['stroke'],axis=1),df['stroke'])\n",
    "x=pd.DataFrame(fits.scores_)\n",
    "columns = pd.DataFrame(df.drop('stroke',axis=1).columns)\n",
    "fscores = pd.concat([columns,x],axis=1)\n",
    "fscores.columns = ['Attribute','Score']\n",
    "fscores.sort_values(by='Score',ascending=False)"
   ],
   "outputs": [
    {
     "output_type": "execute_result",
     "data": {
      "text/html": [
       "<div>\n",
       "<style scoped>\n",
       "    .dataframe tbody tr th:only-of-type {\n",
       "        vertical-align: middle;\n",
       "    }\n",
       "\n",
       "    .dataframe tbody tr th {\n",
       "        vertical-align: top;\n",
       "    }\n",
       "\n",
       "    .dataframe thead th {\n",
       "        text-align: right;\n",
       "    }\n",
       "</style>\n",
       "<table border=\"1\" class=\"dataframe\">\n",
       "  <thead>\n",
       "    <tr style=\"text-align: right;\">\n",
       "      <th></th>\n",
       "      <th>Attribute</th>\n",
       "      <th>Score</th>\n",
       "    </tr>\n",
       "  </thead>\n",
       "  <tbody>\n",
       "    <tr>\n",
       "      <th>8</th>\n",
       "      <td>age</td>\n",
       "      <td>326.916568</td>\n",
       "    </tr>\n",
       "    <tr>\n",
       "      <th>2</th>\n",
       "      <td>heart_disease</td>\n",
       "      <td>94.698406</td>\n",
       "    </tr>\n",
       "    <tr>\n",
       "      <th>6</th>\n",
       "      <td>avg_glucose_level</td>\n",
       "      <td>90.503870</td>\n",
       "    </tr>\n",
       "    <tr>\n",
       "      <th>1</th>\n",
       "      <td>hypertension</td>\n",
       "      <td>84.953542</td>\n",
       "    </tr>\n",
       "    <tr>\n",
       "      <th>7</th>\n",
       "      <td>bmi</td>\n",
       "      <td>9.541558</td>\n",
       "    </tr>\n",
       "    <tr>\n",
       "      <th>3</th>\n",
       "      <td>work_type</td>\n",
       "      <td>5.340019</td>\n",
       "    </tr>\n",
       "    <tr>\n",
       "      <th>5</th>\n",
       "      <td>smoking_status</td>\n",
       "      <td>4.043033</td>\n",
       "    </tr>\n",
       "    <tr>\n",
       "      <th>4</th>\n",
       "      <td>Residence_type</td>\n",
       "      <td>1.220842</td>\n",
       "    </tr>\n",
       "    <tr>\n",
       "      <th>0</th>\n",
       "      <td>gender</td>\n",
       "      <td>0.424625</td>\n",
       "    </tr>\n",
       "  </tbody>\n",
       "</table>\n",
       "</div>"
      ],
      "text/plain": [
       "           Attribute       Score\n",
       "8                age  326.916568\n",
       "2      heart_disease   94.698406\n",
       "6  avg_glucose_level   90.503870\n",
       "1       hypertension   84.953542\n",
       "7                bmi    9.541558\n",
       "3          work_type    5.340019\n",
       "5     smoking_status    4.043033\n",
       "4     Residence_type    1.220842\n",
       "0             gender    0.424625"
      ]
     },
     "metadata": {},
     "execution_count": 26
    }
   ],
   "metadata": {}
  },
  {
   "cell_type": "code",
   "execution_count": 27,
   "source": [
    "cols=fscores[fscores['Score']>50].sort_values(by='Score',ascending=False)['Attribute']\n",
    "# bỏ đi biến ever_married\n",
    "cols"
   ],
   "outputs": [
    {
     "output_type": "execute_result",
     "data": {
      "text/plain": [
       "8                  age\n",
       "2        heart_disease\n",
       "6    avg_glucose_level\n",
       "1         hypertension\n",
       "Name: Attribute, dtype: object"
      ]
     },
     "metadata": {},
     "execution_count": 27
    }
   ],
   "metadata": {}
  },
  {
   "cell_type": "code",
   "execution_count": 28,
   "source": [
    "cols = ['age', 'heart_disease', 'avg_glucose_level', 'hypertension']\n",
    "# cols = ['age', 'heart_disease', 'avg_glucose_level', 'hypertension','gender','bmi','smoking_status']"
   ],
   "outputs": [],
   "metadata": {}
  },
  {
   "cell_type": "code",
   "execution_count": 29,
   "source": [
    "train_x,test_x,train_y,test_y=train_test_split(df[cols],df['stroke'],random_state=42,test_size=0.2)\n",
    "#Splitting data\n",
    "train_x.shape,test_x.shape,train_y.shape,test_y.shape"
   ],
   "outputs": [
    {
     "output_type": "execute_result",
     "data": {
      "text/plain": [
       "((4088, 4), (1022, 4), (4088,), (1022,))"
      ]
     },
     "metadata": {},
     "execution_count": 29
    }
   ],
   "metadata": {}
  },
  {
   "cell_type": "markdown",
   "source": [
    "Vì dữ liệu hiện tại mất cân bằng, nên ta sử dụng phương pháp [SMOTE](https://imbalanced-learn.org/stable/references/generated/imblearn.over_sampling.SMOTE.html) để cân bằng lại dữ liệu. Phương pháp này sẽ phân bố lại dữ liệu với các bản ghi tương đồng với các bản ghi thuộc lớp có số lượng thiểu số."
   ],
   "metadata": {}
  },
  {
   "cell_type": "code",
   "execution_count": 30,
   "source": [
    "smote = SMOTE()\n",
    "train_x, train_y = smote.fit_resample(train_x, train_y)\n",
    "test_x, test_y = smote.fit_resample(test_x, test_y)"
   ],
   "outputs": [],
   "metadata": {}
  },
  {
   "cell_type": "code",
   "execution_count": 31,
   "source": [
    "train_x.shape,train_y.shape,test_x.shape,test_y.shape"
   ],
   "outputs": [
    {
     "output_type": "execute_result",
     "data": {
      "text/plain": [
       "((7802, 4), (7802,), (1920, 4), (1920,))"
      ]
     },
     "metadata": {},
     "execution_count": 31
    }
   ],
   "metadata": {}
  },
  {
   "cell_type": "code",
   "execution_count": 32,
   "source": [
    "df_y_train = pd.DataFrame({'stroke': train_y.values})\n",
    "df_y_train.head()"
   ],
   "outputs": [
    {
     "output_type": "execute_result",
     "data": {
      "text/html": [
       "<div>\n",
       "<style scoped>\n",
       "    .dataframe tbody tr th:only-of-type {\n",
       "        vertical-align: middle;\n",
       "    }\n",
       "\n",
       "    .dataframe tbody tr th {\n",
       "        vertical-align: top;\n",
       "    }\n",
       "\n",
       "    .dataframe thead th {\n",
       "        text-align: right;\n",
       "    }\n",
       "</style>\n",
       "<table border=\"1\" class=\"dataframe\">\n",
       "  <thead>\n",
       "    <tr style=\"text-align: right;\">\n",
       "      <th></th>\n",
       "      <th>stroke</th>\n",
       "    </tr>\n",
       "  </thead>\n",
       "  <tbody>\n",
       "    <tr>\n",
       "      <th>0</th>\n",
       "      <td>0</td>\n",
       "    </tr>\n",
       "    <tr>\n",
       "      <th>1</th>\n",
       "      <td>0</td>\n",
       "    </tr>\n",
       "    <tr>\n",
       "      <th>2</th>\n",
       "      <td>0</td>\n",
       "    </tr>\n",
       "    <tr>\n",
       "      <th>3</th>\n",
       "      <td>0</td>\n",
       "    </tr>\n",
       "    <tr>\n",
       "      <th>4</th>\n",
       "      <td>0</td>\n",
       "    </tr>\n",
       "  </tbody>\n",
       "</table>\n",
       "</div>"
      ],
      "text/plain": [
       "   stroke\n",
       "0       0\n",
       "1       0\n",
       "2       0\n",
       "3       0\n",
       "4       0"
      ]
     },
     "metadata": {},
     "execution_count": 32
    }
   ],
   "metadata": {}
  },
  {
   "cell_type": "code",
   "execution_count": 33,
   "source": [
    "sns.countplot(data=df_y_train, x='stroke')"
   ],
   "outputs": [
    {
     "output_type": "execute_result",
     "data": {
      "text/plain": [
       "<AxesSubplot:xlabel='stroke', ylabel='count'>"
      ]
     },
     "metadata": {},
     "execution_count": 33
    },
    {
     "output_type": "display_data",
     "data": {
      "image/png": "[encoded data removed]",
      "text/plain": [
       "<Figure size 432x288 with 1 Axes>"
      ]
     },
     "metadata": {
      "needs_background": "light"
     }
    }
   ],
   "metadata": {}
  },
  {
   "cell_type": "markdown",
   "source": [
    "Để đánh giá được số cụm phù hợp với tập dữ liệu, ở đây ta chạy thuật toán thử nghiệm số lượng cụm từ 1-10, sau đó so sánh SSE (sum-squared-error) (Phương pháp ELBOW)."
   ],
   "metadata": {}
  },
  {
   "cell_type": "code",
   "execution_count": 34,
   "source": [
    "kmeans_kwargs = {\n",
    "    \"init\": \"random\",\n",
    "    \"n_init\": 10,\n",
    "    \"max_iter\": 300,\n",
    "    \"random_state\": 42,\n",
    "}\n",
    "\n",
    "sse = []\n",
    "for k in range(1, 11):\n",
    "    kmeans = KMeans(n_clusters=k, **kmeans_kwargs)\n",
    "    kmeans.fit(train_x)\n",
    "    sse.append(kmeans.inertia_)"
   ],
   "outputs": [],
   "metadata": {}
  },
  {
   "cell_type": "code",
   "execution_count": 35,
   "source": [
    "plt.figure(figsize=(8,6))\n",
    "plt.style.use(\"fivethirtyeight\")\n",
    "plt.plot(range(1, 11), sse)\n",
    "plt.xticks(range(1, 11))\n",
    "plt.xlabel(\"Number of Clusters\")\n",
    "plt.ylabel(\"SSE\")"
   ],
   "outputs": [
    {
     "output_type": "execute_result",
     "data": {
      "text/plain": [
       "Text(0, 0.5, 'SSE')"
      ]
     },
     "metadata": {},
     "execution_count": 35
    },
    {
     "output_type": "display_data",
     "data": {
      "image/png": "[encoded data removed]",
      "text/plain": [
       "<Figure size 576x432 with 1 Axes>"
      ]
     },
     "metadata": {
      "needs_background": "light"
     }
    }
   ],
   "metadata": {}
  },
  {
   "cell_type": "markdown",
   "source": [
    "Thư viện KneeLocator để tìm ra được điểm elbow point thay vì nhìn bằng mắt thường."
   ],
   "metadata": {}
  },
  {
   "cell_type": "code",
   "execution_count": 36,
   "source": [
    "from kneed import KneeLocator\n",
    "kl = KneeLocator(range(1, 11), sse, curve=\"convex\", direction=\"decreasing\")\n",
    "\n",
    "kl.elbow"
   ],
   "outputs": [
    {
     "output_type": "execute_result",
     "data": {
      "text/plain": [
       "3"
      ]
     },
     "metadata": {},
     "execution_count": 36
    }
   ],
   "metadata": {}
  },
  {
   "cell_type": "markdown",
   "source": [
    "Ta thấy sau khi cân bằng lại dữ liệu, với các số cụm <=3 SSE giảm rất nhiều và nhanh. Để phù hợp với bài toán dự đoán 1 bệnh nhân có bị đột quỵ hay không, ta chọn k=2"
   ],
   "metadata": {}
  },
  {
   "cell_type": "code",
   "execution_count": 37,
   "source": [
    "km = KMeans(n_clusters = 2, n_init=10, random_state=42)\n",
    "km.fit(train_x, train_y)\n",
    "y_pred = km.predict(test_x)\n",
    "arg_test = {'y_true':test_y, 'y_pred':y_pred}\n",
    "print(' Accuracy: ',accuracy_score(test_y, y_pred).round(4))\n",
    "print('F1 Score: ',f1_score(test_y, y_pred).round(4))\n",
    "print(confusion_matrix(**arg_test))\n",
    "print(classification_report(**arg_test))"
   ],
   "outputs": [
    {
     "output_type": "stream",
     "name": "stdout",
     "text": [
      " Accuracy:  0.6323\n",
      "F1 Score:  0.5042\n",
      "[[855 105]\n",
      " [601 359]]\n",
      "              precision    recall  f1-score   support\n",
      "\n",
      "           0       0.59      0.89      0.71       960\n",
      "           1       0.77      0.37      0.50       960\n",
      "\n",
      "    accuracy                           0.63      1920\n",
      "   macro avg       0.68      0.63      0.61      1920\n",
      "weighted avg       0.68      0.63      0.61      1920\n",
      "\n"
     ]
    }
   ],
   "metadata": {}
  },
  {
   "cell_type": "markdown",
   "source": [
    "## Thử nghiệm với các mô hình"
   ],
   "metadata": {}
  },
  {
   "cell_type": "markdown",
   "source": [
    "### XGB Classifier"
   ],
   "metadata": {}
  },
  {
   "cell_type": "code",
   "execution_count": 38,
   "source": [
    "xgc=XGBClassifier(objective='binary:logistic',n_estimators=1000,max_depth=5,learning_rate=0.01,n_jobs=-1)\n",
    "xgc.fit(train_x,train_y)\n",
    "predict=xgc.predict(test_x)\n",
    "print('Accuracy: ',accuracy_score(test_y, predict).round(4))\n",
    "print('F1 Score: ',f1_score(test_y, predict).round(4))\n",
    "print('Classification Report: \\n', classification_report(test_y, predict))"
   ],
   "outputs": [
    {
     "output_type": "stream",
     "name": "stdout",
     "text": [
      "[11:04:57] WARNING: ../src/learner.cc:1095: Starting in XGBoost 1.3.0, the default evaluation metric used with the objective 'binary:logistic' was changed from 'error' to 'logloss'. Explicitly set eval_metric if you'd like to restore the old behavior.\n"
     ]
    },
    {
     "output_type": "stream",
     "name": "stderr",
     "text": [
      "/home/tm/.local/lib/python3.8/site-packages/xgboost/sklearn.py:1146: UserWarning: The use of label encoder in XGBClassifier is deprecated and will be removed in a future release. To remove this warning, do the following: 1) Pass option use_label_encoder=False when constructing XGBClassifier object; and 2) Encode your labels (y) as integers starting with 0, i.e. 0, 1, 2, ..., [num_class - 1].\n",
      "  warnings.warn(label_encoder_deprecation_msg, UserWarning)\n"
     ]
    },
    {
     "output_type": "stream",
     "name": "stdout",
     "text": [
      "Accuracy:  0.851\n",
      "F1 Score:  0.8441\n",
      "Classification Report: \n",
      "               precision    recall  f1-score   support\n",
      "\n",
      "           0       0.82      0.90      0.86       960\n",
      "           1       0.89      0.81      0.84       960\n",
      "\n",
      "    accuracy                           0.85      1920\n",
      "   macro avg       0.85      0.85      0.85      1920\n",
      "weighted avg       0.85      0.85      0.85      1920\n",
      "\n"
     ]
    }
   ],
   "metadata": {}
  },
  {
   "cell_type": "markdown",
   "source": [
    "### Mô hình khác:\n",
    "- Decision Tree\n",
    "- Logistic Regression\n",
    "- Random Forest\n",
    "- Support Vector Machine\n",
    "- kNN\n",
    "- Naive Bayes\n",
    "- KMeans"
   ],
   "metadata": {}
  },
  {
   "cell_type": "code",
   "execution_count": 39,
   "source": [
    "models = dict()\n",
    "models['Decision Tree'] = DecisionTreeClassifier()\n",
    "models['Logistic Regression'] = LogisticRegression()\n",
    "models['Random Forest'] = RandomForestClassifier()\n",
    "models['Support Vector Machine'] = SVC(kernel = 'sigmoid', gamma='scale', probability=True)\n",
    "models['kNN'] = KNeighborsClassifier()\n",
    "models['Naive Bayes'] = GaussianNB()\n",
    "models['KMeans'] = KMeans(n_clusters=2, n_init=10, random_state=42)"
   ],
   "outputs": [],
   "metadata": {}
  },
  {
   "cell_type": "code",
   "execution_count": 40,
   "source": [
    "for model in models:\n",
    "    models[model].fit(train_x, train_y)\n",
    "    print(model + \" model fitting completed.\")"
   ],
   "outputs": [
    {
     "output_type": "stream",
     "name": "stdout",
     "text": [
      "Decision Tree model fitting completed.\n",
      "Logistic Regression model fitting completed.\n",
      "Random Forest model fitting completed.\n",
      "Support Vector Machine model fitting completed.\n",
      "kNN model fitting completed.\n",
      "Naive Bayes model fitting completed.\n",
      "KMeans model fitting completed.\n"
     ]
    }
   ],
   "metadata": {}
  },
  {
   "cell_type": "code",
   "execution_count": 41,
   "source": [
    "print(\"Test Set Prediction:\\n\")\n",
    "\n",
    "for x in models:\n",
    "    print('-'*20+x+'-'*20)\n",
    "    model = models[x]\n",
    "    y_pred = model.predict(test_x)\n",
    "    arg_test = {'y_true':test_y, 'y_pred':y_pred}\n",
    "    print('Accuracy: ',accuracy_score(test_y, y_pred).round(4))\n",
    "    print('F1 Score: ',f1_score(test_y, y_pred).round(4))\n",
    "    print(confusion_matrix(**arg_test))\n",
    "    print(classification_report(**arg_test))"
   ],
   "outputs": [
    {
     "output_type": "stream",
     "name": "stdout",
     "text": [
      "Test Set Prediction:\n",
      "\n",
      "--------------------Decision Tree--------------------\n",
      "Accuracy:  0.8229\n",
      "F1 Score:  0.803\n",
      "[[887  73]\n",
      " [267 693]]\n",
      "              precision    recall  f1-score   support\n",
      "\n",
      "           0       0.77      0.92      0.84       960\n",
      "           1       0.90      0.72      0.80       960\n",
      "\n",
      "    accuracy                           0.82      1920\n",
      "   macro avg       0.84      0.82      0.82      1920\n",
      "weighted avg       0.84      0.82      0.82      1920\n",
      "\n",
      "--------------------Logistic Regression--------------------\n",
      "Accuracy:  0.7677\n",
      "F1 Score:  0.7727\n",
      "[[716 244]\n",
      " [202 758]]\n",
      "              precision    recall  f1-score   support\n",
      "\n",
      "           0       0.78      0.75      0.76       960\n",
      "           1       0.76      0.79      0.77       960\n",
      "\n",
      "    accuracy                           0.77      1920\n",
      "   macro avg       0.77      0.77      0.77      1920\n",
      "weighted avg       0.77      0.77      0.77      1920\n",
      "\n",
      "--------------------Random Forest--------------------\n",
      "Accuracy:  0.7255\n",
      "F1 Score:  0.6553\n",
      "[[892  68]\n",
      " [459 501]]\n",
      "              precision    recall  f1-score   support\n",
      "\n",
      "           0       0.66      0.93      0.77       960\n",
      "           1       0.88      0.52      0.66       960\n",
      "\n",
      "    accuracy                           0.73      1920\n",
      "   macro avg       0.77      0.73      0.71      1920\n",
      "weighted avg       0.77      0.73      0.71      1920\n",
      "\n",
      "--------------------Support Vector Machine--------------------\n",
      "Accuracy:  0.7677\n",
      "F1 Score:  0.7831\n",
      "[[669 291]\n",
      " [155 805]]\n",
      "              precision    recall  f1-score   support\n",
      "\n",
      "           0       0.81      0.70      0.75       960\n",
      "           1       0.73      0.84      0.78       960\n",
      "\n",
      "    accuracy                           0.77      1920\n",
      "   macro avg       0.77      0.77      0.77      1920\n",
      "weighted avg       0.77      0.77      0.77      1920\n",
      "\n",
      "--------------------kNN--------------------\n",
      "Accuracy:  0.6766\n",
      "F1 Score:  0.6225\n",
      "[[787 173]\n",
      " [448 512]]\n",
      "              precision    recall  f1-score   support\n",
      "\n",
      "           0       0.64      0.82      0.72       960\n",
      "           1       0.75      0.53      0.62       960\n",
      "\n",
      "    accuracy                           0.68      1920\n",
      "   macro avg       0.69      0.68      0.67      1920\n",
      "weighted avg       0.69      0.68      0.67      1920\n",
      "\n",
      "--------------------Naive Bayes--------------------\n",
      "Accuracy:  0.6906\n",
      "F1 Score:  0.6443\n",
      "[[788 172]\n",
      " [422 538]]\n",
      "              precision    recall  f1-score   support\n",
      "\n",
      "           0       0.65      0.82      0.73       960\n",
      "           1       0.76      0.56      0.64       960\n",
      "\n",
      "    accuracy                           0.69      1920\n",
      "   macro avg       0.70      0.69      0.69      1920\n",
      "weighted avg       0.70      0.69      0.69      1920\n",
      "\n",
      "--------------------KMeans--------------------\n",
      "Accuracy:  0.6323\n",
      "F1 Score:  0.5042\n",
      "[[855 105]\n",
      " [601 359]]\n",
      "              precision    recall  f1-score   support\n",
      "\n",
      "           0       0.59      0.89      0.71       960\n",
      "           1       0.77      0.37      0.50       960\n",
      "\n",
      "    accuracy                           0.63      1920\n",
      "   macro avg       0.68      0.63      0.61      1920\n",
      "weighted avg       0.68      0.63      0.61      1920\n",
      "\n"
     ]
    }
   ],
   "metadata": {}
  },
  {
   "cell_type": "code",
   "execution_count": 42,
   "source": [
    "print('Summary of Accuracy Score\\n')\n",
    "for i in models:\n",
    "    model = models[i]\n",
    "    print(i + ' Model: ',accuracy_score(test_y, model.predict(test_x)).round(4))"
   ],
   "outputs": [
    {
     "output_type": "stream",
     "name": "stdout",
     "text": [
      "Summary of Accuracy Score\n",
      "\n",
      "Decision Tree Model:  0.8229\n",
      "Logistic Regression Model:  0.7677\n",
      "Random Forest Model:  0.7255\n",
      "Support Vector Machine Model:  0.7677\n",
      "kNN Model:  0.6766\n",
      "Naive Bayes Model:  0.6906\n",
      "KMeans Model:  0.6323\n"
     ]
    }
   ],
   "metadata": {}
  },
  {
   "cell_type": "code",
   "execution_count": 43,
   "source": [
    "from sklearn.metrics import plot_roc_curve\n",
    "from sklearn import metrics"
   ],
   "outputs": [],
   "metadata": {}
  },
  {
   "cell_type": "code",
   "execution_count": 44,
   "source": [
    "# fig = plt.figure(figsize=(10, 8))\n",
    "# lw = 2\n",
    "plt.figure(figsize=(8,6))\n",
    "# Below for loop iterates through your models list\n",
    "for i in models:\n",
    "    if i == 'KMeans':\n",
    "        continue\n",
    "    model = models[i] # select the model\n",
    "    y_pred = model.predict(test_x) # predict the test data\n",
    "    # Compute False postive rate, and True positive rate\n",
    "    fpr, tpr, thresholds = metrics.roc_curve(test_y, model.predict_proba(test_x)[:,1])\n",
    "    # Calculate Area under the curve to display on the plot\n",
    "    # auc = metrics.roc_auc_score(test_y, model.predict(test_x))\n",
    "    auc_ = metrics.auc(fpr, tpr)\n",
    "    # Now, plot the computed values\n",
    "    plt.plot(fpr, tpr, label='%s ROC (area = %0.2f)' % (i, auc_))\n",
    "\n",
    "plt.plot([0, 1], [0, 1], color='navy', lw=2, linestyle='--')\n",
    "plt.xlim([0.0, 1.0])\n",
    "plt.ylim([0.0, 1.05])\n",
    "plt.xlabel('False Positive Rate')\n",
    "plt.ylabel('True Positive Rate')\n",
    "plt.title('Receiver operating characteristic example')\n",
    "plt.legend(loc=\"lower right\")"
   ],
   "outputs": [
    {
     "output_type": "execute_result",
     "data": {
      "text/plain": [
       "<matplotlib.legend.Legend at 0x7f3202b85f40>"
      ]
     },
     "metadata": {},
     "execution_count": 44
    },
    {
     "output_type": "display_data",
     "data": {
      "image/png": "[encoded data removed]",
      "text/plain": [
       "<Figure size 576x432 with 1 Axes>"
      ]
     },
     "metadata": {}
    }
   ],
   "metadata": {}
  },
  {
   "cell_type": "markdown",
   "source": [
    "## Kiểm định chéo (Cross-validation)"
   ],
   "metadata": {}
  },
  {
   "cell_type": "code",
   "execution_count": 45,
   "source": [
    "from sklearn.model_selection import cross_val_score\n",
    "\n",
    "gnb = GaussianNB()\n",
    "dct = DecisionTreeClassifier()\n",
    "km = KMeans(n_clusters=2, n_init=10, random_state=42)\n",
    "\n",
    "scores = cross_val_score(dct, train_x, train_y, cv = 10, scoring='accuracy')\n",
    "\n",
    "print('Cross-validation scores:{}'.format(scores))\n",
    "\n",
    "print('Average cross-validation score: {:.4f}'.format(scores.mean()))"
   ],
   "outputs": [
    {
     "output_type": "stream",
     "name": "stdout",
     "text": [
      "Cross-validation scores:[0.80665813 0.92445583 0.92051282 0.92435897 0.93333333 0.91410256\n",
      " 0.92179487 0.92692308 0.92051282 0.92820513]\n",
      "Average cross-validation score: 0.9121\n"
     ]
    }
   ],
   "metadata": {}
  },
  {
   "cell_type": "markdown",
   "source": [
    "## Kết luận"
   ],
   "metadata": {}
  },
  {
   "cell_type": "markdown",
   "source": [
    "- Trong các mô hình thử nghiệm, Decision Tree cho kết quả tốt nhất với độ chính xác 80,78%\n",
    "\n",
    "- Có thể cải tiến được mô hình Decision Tree bằng việc tinh chỉnh siêu tham số, hoặc điều chỉnh ngưỡng xác suất (probability threshold)"
   ],
   "metadata": {}
  }
 ],
 "metadata": {
  "orig_nbformat": 4,
  "language_info": {
   "name": "python",
   "version": "3.8.10",
   "mimetype": "text/x-python",
   "codemirror_mode": {
    "name": "ipython",
    "version": 3
   },
   "pygments_lexer": "ipython3",
   "nbconvert_exporter": "python",
   "file_extension": ".py"
  },
  "kernelspec": {
   "name": "python3",
   "display_name": "Python 3.8.10 64-bit"
  },
  "interpreter": {
   "hash": "31f2aee4e71d21fbe5cf8b01ff0e069b9275f58929596ceb00d14d90e3e16cd6"
  }
 },
 "nbformat": 4,
 "nbformat_minor": 2
}